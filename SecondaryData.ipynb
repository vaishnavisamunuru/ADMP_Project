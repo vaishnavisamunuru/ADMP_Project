{
 "cells": [
  {
   "cell_type": "code",
   "execution_count": 131,
   "id": "a92c3596",
   "metadata": {},
   "outputs": [],
   "source": [
    "import os\n",
    "import pandas as pd\n",
    "import numpy as np\n",
    "import re\n",
    "import warnings\n",
    "warnings.filterwarnings('ignore')\n",
    "folder_path = \"./\"\n",
    "csv_attendant_files = [file for file in os.listdir(folder_path) if file.endswith('.csv') and 'attendant' in file]\n",
    "csv_casualty_files = [file for file in os.listdir(folder_path) if file.endswith('.csv') and 'casualty' in file]\n",
    "\n",
    "attendant_col_mapping = {\n",
    "               'AREFNO':'collision_index',\n",
    "               'Accident Ref.':'collision_index',\n",
    "               'Accident Ref':'collision_index',\n",
    "               'Borough':'Borough Name',\n",
    "               'Boro':'Borough Number',\n",
    "               'Location':'Collision Location',\n",
    "               'Accident Severity':'legacy_collision_severity',\n",
    "               'No. of Casualties in Acc.':'number_of_casualties',\n",
    "               'No. of Vehicles in Acc.':'number_of_vehicles',\n",
    "               'Accident Date':'date',\n",
    "               'Day':'day_of_week',\n",
    "               'Weather':'weather_conditions',\n",
    "               'Road Surface':'road_surface_conditions',\n",
    "               'Light Conditions (Banded)':'light_conditions',\n",
    "               'Time':'time'}\n",
    "\n",
    "casualty_col_mapping = {\n",
    "                'AREFNO': 'collision_index',\n",
    "                'Accident Ref.':'collision_index',\n",
    "                'Accident Ref':'collision_index',\n",
    "                'Borough': 'Borough Name',\n",
    "                'Boro': 'Borough Number',\n",
    "                'CREFNO': 'casualty_reference',\n",
    "                'Casualty Class': 'casualty_class',\n",
    "                'Casualty Sex': 'sex_of_casualty',\n",
    "                'Casualty Age (Banded)': 'age_band_of_casualty',\n",
    "                'Casualty Age': 'age_of_casualty',\n",
    "                'No. of Casualties': 'number_of_casualties',\n",
    "                'Casualty Severity': 'casualty_severity'}\n",
    "\n",
    "pattern = re.compile(r'2013|2014|2015|2016|2017')\n",
    "attendant_df = []\n",
    "for file_name in csv_attendant_files:\n",
    "    if re.search(pattern, file_name):\n",
    "        file_path = os.path.join(folder_path, file_name)\n",
    "        df = pd.read_csv(file_path,encoding='ISO-8859-1')\n",
    "        df.rename(columns=attendant_col_mapping,inplace=True)\n",
    "        attendant_df.append(df)\n",
    "final_attendant_df = pd.concat(attendant_df,axis=0)\n",
    "\n",
    "casualty_df = []\n",
    "for file_name in csv_casualty_files:\n",
    "    if re.search(pattern, file_name):\n",
    "        file_path = os.path.join(folder_path, file_name)\n",
    "        df = pd.read_csv(file_path,encoding='ISO-8859-1')\n",
    "        df.rename(columns=casualty_col_mapping,inplace=True)\n",
    "        casualty_df.append(df)\n",
    "final_casualty_df = pd.concat(casualty_df,axis=0).drop(columns=[' '])\n"
   ]
  },
  {
   "cell_type": "code",
   "execution_count": 132,
   "id": "31111379",
   "metadata": {},
   "outputs": [],
   "source": [
    "provided_places = {\n",
    "    \"WESTMINSTER\": \"Westminster\",\n",
    "    \"LAMBETH\": \"Lambeth\",\n",
    "    \"TOWER HAMLETS\": \"Tower Hamlets\",\n",
    "    \"BARNET\": \"Barnet\",\n",
    "    \"EALING\": \"Ealing\",\n",
    "    \"SOUTHWARK\": \"Southwark\",\n",
    "    \"WANDSWORTH\": \"Wandsworth\",\n",
    "    \"CROYDON\": \"Croydon\",\n",
    "    \"BRENT\": \"Brent\",\n",
    "    \"CAMDEN\": \"Camden\",\n",
    "    \"LEWISHAM\": \"Lewisham\",\n",
    "    \"HACKNEY\": \"Hackney\",\n",
    "    \"HARINGEY\": \"Haringey\",\n",
    "    \"HOUNSLOW\": \"Hounslow\",\n",
    "    \"NEWHAM\": \"Newham\",\n",
    "    \"ISLINGTON\": \"Islington\",\n",
    "    \"ENFIELD\": \"Enfield\",\n",
    "    \"BROMLEY\": \"Bromley\",\n",
    "    \"REDBRIDGE\": \"Redbridge\",\n",
    "    \"KENSINGTON & CHELSEA\": \"Kensington and Chelsea\",\n",
    "    \"HILLINGDON\": \"Hillingdon\",\n",
    "    \"WALTHAM FOREST\": \"Waltham Forest\",\n",
    "    \"GREENWICH\": \"Greenwich\",\n",
    "    \"HAMMERSMITH & FULHAM\": \"Hammersmith and Fulham\",\n",
    "    \"HAVERING\": \"Havering\",\n",
    "    \"BARKING & DAGENHAM\": \"Barking and Dagenham\",\n",
    "    \"MERTON\": \"Merton\",\n",
    "    \"RICHMOND-UPON-THAMES\": \"Richmond upon Thames\",\n",
    "    \"BEXLEY\": \"Bexley\",\n",
    "    \"HARROW\": \"Harrow\",\n",
    "    \"SUTTON\": \"Sutton\",\n",
    "    \"KINGSTON-UPON-THAMES\": \"Kingston upon Thames\",\n",
    "    \"CITY OF LONDON\": \"City of London\"\n",
    "}\n",
    "\n",
    "old_mapping = {\n",
    "    \"E09000001\": \"City of London\",\n",
    "    \"E09000002\": \"Barking and Dagenham\",\n",
    "    \"E09000003\": \"Barnet\",\n",
    "    \"E09000004\": \"Bexley\",\n",
    "    \"E09000006\": \"Bromley\",\n",
    "    \"E09000005\": \"Brent\",\n",
    "    \"E09000007\": \"Camden\",\n",
    "    \"E09000008\": \"Croydon\",\n",
    "    \"E09000009\": \"Ealing\",\n",
    "    \"E09000010\": \"Enfield\",\n",
    "    \"E09000011\": \"Greenwich\",\n",
    "    \"E09000012\": \"Hackney\",\n",
    "    \"E09000013\": \"Hammersmith and Fulham\",\n",
    "    \"E09000014\": \"Haringey\",\n",
    "    \"E09000016\": \"Havering\",\n",
    "    \"E09000017\": \"Hillingdon\",\n",
    "    \"E09000015\": \"Harrow\",\n",
    "    \"E09000018\": \"Hounslow\",\n",
    "    \"E09000020\": \"Kensington and Chelsea\",\n",
    "    \"E09000019\": \"Islington\",\n",
    "    \"E09000022\": \"Lambeth\",\n",
    "    \"E09000021\": \"Kingston upon Thames\",\n",
    "    \"E09000023\": \"Lewisham\",\n",
    "    \"E09000024\": \"Merton\",\n",
    "    \"E09000025\": \"Newham\",\n",
    "    \"E09000026\": \"Redbridge\",\n",
    "    \"E09000027\": \"Richmond upon Thames\",\n",
    "    \"E09000028\": \"Southwark\",\n",
    "    \"E09000029\": \"Sutton\",\n",
    "    \"E09000030\": \"Tower Hamlets\",\n",
    "    \"E09000031\": \"Waltham Forest\",\n",
    "    \"E09000032\": \"Wandsworth\",\n",
    "    \"E08000001\": \"Bolton\",\n",
    "    \"E09000033\": \"Westminster\"\n",
    "}\n",
    "exchanged_mapping = {v: k for k, v in old_mapping.items()}\n",
    "\n",
    "final_attendant_df['Borough Name'] = final_attendant_df['Borough Name'].apply(lambda x : provided_places[x])\n",
    "final_attendant_df['local_authority_ons_district'] = final_attendant_df['Borough Name'].apply(lambda x : exchanged_mapping[x] )"
   ]
  },
  {
   "cell_type": "code",
   "execution_count": 133,
   "id": "85d76f2a",
   "metadata": {
    "scrolled": true
   },
   "outputs": [],
   "source": [
    "final_attendant_df['date'] = pd.to_datetime(final_attendant_df['date'])\n",
    "final_attendant_df['collision_year'] = final_attendant_df['date'].dt.year\n",
    "final_attendant_df['date'] = final_attendant_df['date'].apply(lambda x : x.strftime('%d/%m/%Y'))"
   ]
  },
  {
   "cell_type": "code",
   "execution_count": 134,
   "id": "66f34a2a",
   "metadata": {},
   "outputs": [],
   "source": [
    "casualty_df = final_casualty_df[['collision_index','casualty_reference','age_band_of_casualty','casualty_class','sex_of_casualty','age_of_casualty','casualty_severity']]"
   ]
  },
  {
   "cell_type": "code",
   "execution_count": 135,
   "id": "8107154a",
   "metadata": {},
   "outputs": [
    {
     "data": {
      "text/plain": [
       "Index(['collision_index', 'Borough Name', 'Borough Number', 'Easting',\n",
       "       'Northing', 'Collision Location', 'legacy_collision_severity',\n",
       "       'number_of_casualties', 'number_of_vehicles', 'date', 'day_of_week',\n",
       "       'time', 'Highway', 'Road Class 1', 'Road No. 1', 'Road Type',\n",
       "       'Speed Limit', 'Junction Detail', 'Junction Control', 'Road Class 2',\n",
       "       'Road No. 2', 'Ped. Crossing Decoded', 'light_conditions',\n",
       "       'weather_conditions', 'road_surface_conditions', 'Special Conditions',\n",
       "       'C/W Hazard', 'local_authority_ons_district', 'collision_year'],\n",
       "      dtype='object')"
      ]
     },
     "execution_count": 135,
     "metadata": {},
     "output_type": "execute_result"
    }
   ],
   "source": [
    "final_attendant_df.columns"
   ]
  },
  {
   "cell_type": "code",
   "execution_count": 136,
   "id": "66e582a8",
   "metadata": {},
   "outputs": [],
   "source": [
    "attendant_df = final_attendant_df[['collision_index','legacy_collision_severity','number_of_casualties','number_of_vehicles','date','day_of_week','time','light_conditions','weather_conditions','road_surface_conditions','collision_year','local_authority_ons_district']]"
   ]
  },
  {
   "cell_type": "code",
   "execution_count": 137,
   "id": "fa3aaee3",
   "metadata": {},
   "outputs": [
    {
     "data": {
      "text/html": [
       "<div>\n",
       "<style scoped>\n",
       "    .dataframe tbody tr th:only-of-type {\n",
       "        vertical-align: middle;\n",
       "    }\n",
       "\n",
       "    .dataframe tbody tr th {\n",
       "        vertical-align: top;\n",
       "    }\n",
       "\n",
       "    .dataframe thead th {\n",
       "        text-align: right;\n",
       "    }\n",
       "</style>\n",
       "<table border=\"1\" class=\"dataframe\">\n",
       "  <thead>\n",
       "    <tr style=\"text-align: right;\">\n",
       "      <th></th>\n",
       "      <th>collision_index</th>\n",
       "      <th>legacy_collision_severity</th>\n",
       "      <th>number_of_casualties</th>\n",
       "      <th>number_of_vehicles</th>\n",
       "      <th>date</th>\n",
       "      <th>day_of_week</th>\n",
       "      <th>time</th>\n",
       "      <th>light_conditions</th>\n",
       "      <th>weather_conditions</th>\n",
       "      <th>road_surface_conditions</th>\n",
       "      <th>collision_year</th>\n",
       "      <th>local_authority_ons_district</th>\n",
       "    </tr>\n",
       "  </thead>\n",
       "  <tbody>\n",
       "    <tr>\n",
       "      <th>0</th>\n",
       "      <td>0113CP00001</td>\n",
       "      <td>3 Slight</td>\n",
       "      <td>1</td>\n",
       "      <td>2</td>\n",
       "      <td>02/01/2013</td>\n",
       "      <td>Wednesday</td>\n",
       "      <td>'0735</td>\n",
       "      <td>1 Daylight</td>\n",
       "      <td>1 Fine</td>\n",
       "      <td>1 Road-Dry</td>\n",
       "      <td>2013</td>\n",
       "      <td>E09000001</td>\n",
       "    </tr>\n",
       "    <tr>\n",
       "      <th>1</th>\n",
       "      <td>0113CP00002</td>\n",
       "      <td>3 Slight</td>\n",
       "      <td>1</td>\n",
       "      <td>1</td>\n",
       "      <td>04/01/2013</td>\n",
       "      <td>Friday</td>\n",
       "      <td>'0658</td>\n",
       "      <td>2 Dark</td>\n",
       "      <td>1 Fine</td>\n",
       "      <td>1 Road-Dry</td>\n",
       "      <td>2013</td>\n",
       "      <td>E09000001</td>\n",
       "    </tr>\n",
       "    <tr>\n",
       "      <th>2</th>\n",
       "      <td>0113CP00003</td>\n",
       "      <td>3 Slight</td>\n",
       "      <td>1</td>\n",
       "      <td>2</td>\n",
       "      <td>05/01/2013</td>\n",
       "      <td>Saturday</td>\n",
       "      <td>'1700</td>\n",
       "      <td>2 Dark</td>\n",
       "      <td>1 Fine</td>\n",
       "      <td>1 Road-Dry</td>\n",
       "      <td>2013</td>\n",
       "      <td>E09000001</td>\n",
       "    </tr>\n",
       "    <tr>\n",
       "      <th>3</th>\n",
       "      <td>0113CP00005</td>\n",
       "      <td>3 Slight</td>\n",
       "      <td>1</td>\n",
       "      <td>1</td>\n",
       "      <td>11/01/2013</td>\n",
       "      <td>Friday</td>\n",
       "      <td>'0955</td>\n",
       "      <td>1 Daylight</td>\n",
       "      <td>1 Fine</td>\n",
       "      <td>1 Road-Dry</td>\n",
       "      <td>2013</td>\n",
       "      <td>E09000001</td>\n",
       "    </tr>\n",
       "    <tr>\n",
       "      <th>4</th>\n",
       "      <td>0113CP00006</td>\n",
       "      <td>2 Serious</td>\n",
       "      <td>1</td>\n",
       "      <td>1</td>\n",
       "      <td>20/01/2013</td>\n",
       "      <td>Sunday</td>\n",
       "      <td>'1232</td>\n",
       "      <td>1 Daylight</td>\n",
       "      <td>3 Snowing</td>\n",
       "      <td>3 Road-Snow</td>\n",
       "      <td>2013</td>\n",
       "      <td>E09000001</td>\n",
       "    </tr>\n",
       "  </tbody>\n",
       "</table>\n",
       "</div>"
      ],
      "text/plain": [
       "  collision_index legacy_collision_severity  number_of_casualties  \\\n",
       "0     0113CP00001                  3 Slight                     1   \n",
       "1     0113CP00002                  3 Slight                     1   \n",
       "2     0113CP00003                  3 Slight                     1   \n",
       "3     0113CP00005                  3 Slight                     1   \n",
       "4     0113CP00006                 2 Serious                     1   \n",
       "\n",
       "   number_of_vehicles        date day_of_week   time light_conditions  \\\n",
       "0                   2  02/01/2013   Wednesday  '0735       1 Daylight   \n",
       "1                   1  04/01/2013   Friday     '0658           2 Dark   \n",
       "2                   2  05/01/2013   Saturday   '1700           2 Dark   \n",
       "3                   1  11/01/2013   Friday     '0955       1 Daylight   \n",
       "4                   1  20/01/2013   Sunday     '1232       1 Daylight   \n",
       "\n",
       "  weather_conditions road_surface_conditions  collision_year  \\\n",
       "0             1 Fine              1 Road-Dry            2013   \n",
       "1             1 Fine              1 Road-Dry            2013   \n",
       "2             1 Fine              1 Road-Dry            2013   \n",
       "3             1 Fine              1 Road-Dry            2013   \n",
       "4          3 Snowing             3 Road-Snow            2013   \n",
       "\n",
       "  local_authority_ons_district  \n",
       "0                    E09000001  \n",
       "1                    E09000001  \n",
       "2                    E09000001  \n",
       "3                    E09000001  \n",
       "4                    E09000001  "
      ]
     },
     "execution_count": 137,
     "metadata": {},
     "output_type": "execute_result"
    }
   ],
   "source": [
    "pd.set_option('display.max_columns',2000)\n",
    "attendant_df.head()"
   ]
  },
  {
   "cell_type": "code",
   "execution_count": 138,
   "id": "873cb88f",
   "metadata": {},
   "outputs": [
    {
     "data": {
      "text/html": [
       "<div>\n",
       "<style scoped>\n",
       "    .dataframe tbody tr th:only-of-type {\n",
       "        vertical-align: middle;\n",
       "    }\n",
       "\n",
       "    .dataframe tbody tr th {\n",
       "        vertical-align: top;\n",
       "    }\n",
       "\n",
       "    .dataframe thead th {\n",
       "        text-align: right;\n",
       "    }\n",
       "</style>\n",
       "<table border=\"1\" class=\"dataframe\">\n",
       "  <thead>\n",
       "    <tr style=\"text-align: right;\">\n",
       "      <th></th>\n",
       "      <th>collision_index</th>\n",
       "      <th>casualty_reference</th>\n",
       "      <th>age_band_of_casualty</th>\n",
       "      <th>casualty_class</th>\n",
       "      <th>sex_of_casualty</th>\n",
       "      <th>age_of_casualty</th>\n",
       "      <th>casualty_severity</th>\n",
       "    </tr>\n",
       "  </thead>\n",
       "  <tbody>\n",
       "    <tr>\n",
       "      <th>0</th>\n",
       "      <td>0113CP00001</td>\n",
       "      <td>1</td>\n",
       "      <td>25-59</td>\n",
       "      <td>1 Driver/Rider</td>\n",
       "      <td>1 Male</td>\n",
       "      <td>52</td>\n",
       "      <td>3 Slight</td>\n",
       "    </tr>\n",
       "    <tr>\n",
       "      <th>1</th>\n",
       "      <td>0113CP00002</td>\n",
       "      <td>1</td>\n",
       "      <td>25-59</td>\n",
       "      <td>3 Pedestrian</td>\n",
       "      <td>1 Male</td>\n",
       "      <td>36</td>\n",
       "      <td>3 Slight</td>\n",
       "    </tr>\n",
       "    <tr>\n",
       "      <th>2</th>\n",
       "      <td>0113CP00003</td>\n",
       "      <td>1</td>\n",
       "      <td>25-59</td>\n",
       "      <td>1 Driver/Rider</td>\n",
       "      <td>1 Male</td>\n",
       "      <td>26</td>\n",
       "      <td>3 Slight</td>\n",
       "    </tr>\n",
       "    <tr>\n",
       "      <th>3</th>\n",
       "      <td>0113CP00005</td>\n",
       "      <td>1</td>\n",
       "      <td>16-24</td>\n",
       "      <td>3 Pedestrian</td>\n",
       "      <td>2 Female</td>\n",
       "      <td>24</td>\n",
       "      <td>3 Slight</td>\n",
       "    </tr>\n",
       "    <tr>\n",
       "      <th>4</th>\n",
       "      <td>0113CP00006</td>\n",
       "      <td>1</td>\n",
       "      <td>16-24</td>\n",
       "      <td>3 Pedestrian</td>\n",
       "      <td>2 Female</td>\n",
       "      <td>23</td>\n",
       "      <td>2 Serious</td>\n",
       "    </tr>\n",
       "  </tbody>\n",
       "</table>\n",
       "</div>"
      ],
      "text/plain": [
       "  collision_index  casualty_reference age_band_of_casualty  casualty_class  \\\n",
       "0     0113CP00001                   1                25-59  1 Driver/Rider   \n",
       "1     0113CP00002                   1                25-59    3 Pedestrian   \n",
       "2     0113CP00003                   1                25-59  1 Driver/Rider   \n",
       "3     0113CP00005                   1                16-24    3 Pedestrian   \n",
       "4     0113CP00006                   1                16-24    3 Pedestrian   \n",
       "\n",
       "  sex_of_casualty  age_of_casualty casualty_severity  \n",
       "0          1 Male               52          3 Slight  \n",
       "1          1 Male               36          3 Slight  \n",
       "2          1 Male               26          3 Slight  \n",
       "3        2 Female               24          3 Slight  \n",
       "4        2 Female               23         2 Serious  "
      ]
     },
     "execution_count": 138,
     "metadata": {},
     "output_type": "execute_result"
    }
   ],
   "source": [
    "casualty_df.head()"
   ]
  },
  {
   "cell_type": "code",
   "execution_count": 139,
   "id": "0638afc0",
   "metadata": {},
   "outputs": [
    {
     "name": "stdout",
     "output_type": "stream",
     "text": [
      "(126466, 12)\n",
      "(151003, 7)\n"
     ]
    }
   ],
   "source": [
    "print(attendant_df.shape)\n",
    "print(casualty_df.shape)"
   ]
  },
  {
   "cell_type": "code",
   "execution_count": 140,
   "id": "ee6d651a",
   "metadata": {},
   "outputs": [
    {
     "data": {
      "text/plain": [
       "collision_index         0\n",
       "casualty_reference      0\n",
       "age_band_of_casualty    0\n",
       "casualty_class          0\n",
       "sex_of_casualty         0\n",
       "age_of_casualty         0\n",
       "casualty_severity       0\n",
       "dtype: int64"
      ]
     },
     "execution_count": 140,
     "metadata": {},
     "output_type": "execute_result"
    }
   ],
   "source": [
    "casualty_df.isna().sum()"
   ]
  },
  {
   "cell_type": "code",
   "execution_count": 141,
   "id": "d9f80baf",
   "metadata": {},
   "outputs": [
    {
     "data": {
      "text/plain": [
       "1 Male      97577\n",
       "2 Female    53426\n",
       "Name: sex_of_casualty, dtype: int64"
      ]
     },
     "execution_count": 141,
     "metadata": {},
     "output_type": "execute_result"
    }
   ],
   "source": [
    "casualty_df.sex_of_casualty.value_counts()"
   ]
  },
  {
   "cell_type": "code",
   "execution_count": 142,
   "id": "72e992cd",
   "metadata": {},
   "outputs": [],
   "source": [
    "casualty_df['sex_of_casualty'] = casualty_df['sex_of_casualty'].apply(lambda x : x[0])"
   ]
  },
  {
   "cell_type": "code",
   "execution_count": 143,
   "id": "712eef4a",
   "metadata": {},
   "outputs": [
    {
     "data": {
      "text/plain": [
       "1 Driver/Rider    95878\n",
       "3 Pedestrian      28378\n",
       "2 Passenger       26747\n",
       "Name: casualty_class, dtype: int64"
      ]
     },
     "execution_count": 143,
     "metadata": {},
     "output_type": "execute_result"
    }
   ],
   "source": [
    "casualty_df.casualty_class.value_counts()"
   ]
  },
  {
   "cell_type": "code",
   "execution_count": 144,
   "id": "ecc4070b",
   "metadata": {},
   "outputs": [],
   "source": [
    "casualty_df['casualty_class'] = casualty_df['casualty_class'].apply(lambda x : x[0])"
   ]
  },
  {
   "cell_type": "code",
   "execution_count": 145,
   "id": "81f8bd6d",
   "metadata": {},
   "outputs": [
    {
     "data": {
      "text/plain": [
       "3 Slight     138038\n",
       "2 Serious     12323\n",
       "1 Fatal         642\n",
       "Name: casualty_severity, dtype: int64"
      ]
     },
     "execution_count": 145,
     "metadata": {},
     "output_type": "execute_result"
    }
   ],
   "source": [
    "casualty_df.casualty_severity.value_counts()"
   ]
  },
  {
   "cell_type": "code",
   "execution_count": 146,
   "id": "937530cf",
   "metadata": {},
   "outputs": [],
   "source": [
    "casualty_df['casualty_severity'] = casualty_df['casualty_severity'].apply(lambda x : x[0])"
   ]
  },
  {
   "cell_type": "code",
   "execution_count": 147,
   "id": "d9ec4faf",
   "metadata": {},
   "outputs": [
    {
     "data": {
      "text/plain": [
       "25-59      95067\n",
       "16-24      26789\n",
       "60+        12980\n",
       "0-15       10296\n",
       "Unknown     5871\n",
       "Name: age_band_of_casualty, dtype: int64"
      ]
     },
     "execution_count": 147,
     "metadata": {},
     "output_type": "execute_result"
    }
   ],
   "source": [
    "#?\n",
    "casualty_df.age_band_of_casualty.value_counts()"
   ]
  },
  {
   "cell_type": "code",
   "execution_count": 148,
   "id": "f12fac39",
   "metadata": {},
   "outputs": [
    {
     "data": {
      "text/html": [
       "<div>\n",
       "<style scoped>\n",
       "    .dataframe tbody tr th:only-of-type {\n",
       "        vertical-align: middle;\n",
       "    }\n",
       "\n",
       "    .dataframe tbody tr th {\n",
       "        vertical-align: top;\n",
       "    }\n",
       "\n",
       "    .dataframe thead th {\n",
       "        text-align: right;\n",
       "    }\n",
       "</style>\n",
       "<table border=\"1\" class=\"dataframe\">\n",
       "  <thead>\n",
       "    <tr style=\"text-align: right;\">\n",
       "      <th></th>\n",
       "      <th>collision_index</th>\n",
       "      <th>casualty_reference</th>\n",
       "      <th>age_band_of_casualty</th>\n",
       "      <th>casualty_class</th>\n",
       "      <th>sex_of_casualty</th>\n",
       "      <th>age_of_casualty</th>\n",
       "      <th>casualty_severity</th>\n",
       "    </tr>\n",
       "  </thead>\n",
       "  <tbody>\n",
       "    <tr>\n",
       "      <th>0</th>\n",
       "      <td>0113CP00001</td>\n",
       "      <td>1</td>\n",
       "      <td>25-59</td>\n",
       "      <td>1</td>\n",
       "      <td>1</td>\n",
       "      <td>52</td>\n",
       "      <td>3</td>\n",
       "    </tr>\n",
       "    <tr>\n",
       "      <th>1</th>\n",
       "      <td>0113CP00002</td>\n",
       "      <td>1</td>\n",
       "      <td>25-59</td>\n",
       "      <td>3</td>\n",
       "      <td>1</td>\n",
       "      <td>36</td>\n",
       "      <td>3</td>\n",
       "    </tr>\n",
       "    <tr>\n",
       "      <th>2</th>\n",
       "      <td>0113CP00003</td>\n",
       "      <td>1</td>\n",
       "      <td>25-59</td>\n",
       "      <td>1</td>\n",
       "      <td>1</td>\n",
       "      <td>26</td>\n",
       "      <td>3</td>\n",
       "    </tr>\n",
       "    <tr>\n",
       "      <th>3</th>\n",
       "      <td>0113CP00005</td>\n",
       "      <td>1</td>\n",
       "      <td>16-24</td>\n",
       "      <td>3</td>\n",
       "      <td>2</td>\n",
       "      <td>24</td>\n",
       "      <td>3</td>\n",
       "    </tr>\n",
       "    <tr>\n",
       "      <th>4</th>\n",
       "      <td>0113CP00006</td>\n",
       "      <td>1</td>\n",
       "      <td>16-24</td>\n",
       "      <td>3</td>\n",
       "      <td>2</td>\n",
       "      <td>23</td>\n",
       "      <td>2</td>\n",
       "    </tr>\n",
       "  </tbody>\n",
       "</table>\n",
       "</div>"
      ],
      "text/plain": [
       "  collision_index  casualty_reference age_band_of_casualty casualty_class  \\\n",
       "0     0113CP00001                   1                25-59              1   \n",
       "1     0113CP00002                   1                25-59              3   \n",
       "2     0113CP00003                   1                25-59              1   \n",
       "3     0113CP00005                   1                16-24              3   \n",
       "4     0113CP00006                   1                16-24              3   \n",
       "\n",
       "  sex_of_casualty  age_of_casualty casualty_severity  \n",
       "0               1               52                 3  \n",
       "1               1               36                 3  \n",
       "2               1               26                 3  \n",
       "3               2               24                 3  \n",
       "4               2               23                 2  "
      ]
     },
     "execution_count": 148,
     "metadata": {},
     "output_type": "execute_result"
    }
   ],
   "source": [
    "casualty_df.head()"
   ]
  },
  {
   "cell_type": "code",
   "execution_count": 149,
   "id": "4d59b970",
   "metadata": {},
   "outputs": [
    {
     "data": {
      "text/html": [
       "<div>\n",
       "<style scoped>\n",
       "    .dataframe tbody tr th:only-of-type {\n",
       "        vertical-align: middle;\n",
       "    }\n",
       "\n",
       "    .dataframe tbody tr th {\n",
       "        vertical-align: top;\n",
       "    }\n",
       "\n",
       "    .dataframe thead th {\n",
       "        text-align: right;\n",
       "    }\n",
       "</style>\n",
       "<table border=\"1\" class=\"dataframe\">\n",
       "  <thead>\n",
       "    <tr style=\"text-align: right;\">\n",
       "      <th></th>\n",
       "      <th>collision_index</th>\n",
       "      <th>legacy_collision_severity</th>\n",
       "      <th>number_of_casualties</th>\n",
       "      <th>number_of_vehicles</th>\n",
       "      <th>date</th>\n",
       "      <th>day_of_week</th>\n",
       "      <th>time</th>\n",
       "      <th>light_conditions</th>\n",
       "      <th>weather_conditions</th>\n",
       "      <th>road_surface_conditions</th>\n",
       "      <th>collision_year</th>\n",
       "      <th>local_authority_ons_district</th>\n",
       "    </tr>\n",
       "  </thead>\n",
       "  <tbody>\n",
       "    <tr>\n",
       "      <th>0</th>\n",
       "      <td>0113CP00001</td>\n",
       "      <td>3 Slight</td>\n",
       "      <td>1</td>\n",
       "      <td>2</td>\n",
       "      <td>02/01/2013</td>\n",
       "      <td>Wednesday</td>\n",
       "      <td>'0735</td>\n",
       "      <td>1 Daylight</td>\n",
       "      <td>1 Fine</td>\n",
       "      <td>1 Road-Dry</td>\n",
       "      <td>2013</td>\n",
       "      <td>E09000001</td>\n",
       "    </tr>\n",
       "    <tr>\n",
       "      <th>1</th>\n",
       "      <td>0113CP00002</td>\n",
       "      <td>3 Slight</td>\n",
       "      <td>1</td>\n",
       "      <td>1</td>\n",
       "      <td>04/01/2013</td>\n",
       "      <td>Friday</td>\n",
       "      <td>'0658</td>\n",
       "      <td>2 Dark</td>\n",
       "      <td>1 Fine</td>\n",
       "      <td>1 Road-Dry</td>\n",
       "      <td>2013</td>\n",
       "      <td>E09000001</td>\n",
       "    </tr>\n",
       "    <tr>\n",
       "      <th>2</th>\n",
       "      <td>0113CP00003</td>\n",
       "      <td>3 Slight</td>\n",
       "      <td>1</td>\n",
       "      <td>2</td>\n",
       "      <td>05/01/2013</td>\n",
       "      <td>Saturday</td>\n",
       "      <td>'1700</td>\n",
       "      <td>2 Dark</td>\n",
       "      <td>1 Fine</td>\n",
       "      <td>1 Road-Dry</td>\n",
       "      <td>2013</td>\n",
       "      <td>E09000001</td>\n",
       "    </tr>\n",
       "    <tr>\n",
       "      <th>3</th>\n",
       "      <td>0113CP00005</td>\n",
       "      <td>3 Slight</td>\n",
       "      <td>1</td>\n",
       "      <td>1</td>\n",
       "      <td>11/01/2013</td>\n",
       "      <td>Friday</td>\n",
       "      <td>'0955</td>\n",
       "      <td>1 Daylight</td>\n",
       "      <td>1 Fine</td>\n",
       "      <td>1 Road-Dry</td>\n",
       "      <td>2013</td>\n",
       "      <td>E09000001</td>\n",
       "    </tr>\n",
       "    <tr>\n",
       "      <th>4</th>\n",
       "      <td>0113CP00006</td>\n",
       "      <td>2 Serious</td>\n",
       "      <td>1</td>\n",
       "      <td>1</td>\n",
       "      <td>20/01/2013</td>\n",
       "      <td>Sunday</td>\n",
       "      <td>'1232</td>\n",
       "      <td>1 Daylight</td>\n",
       "      <td>3 Snowing</td>\n",
       "      <td>3 Road-Snow</td>\n",
       "      <td>2013</td>\n",
       "      <td>E09000001</td>\n",
       "    </tr>\n",
       "  </tbody>\n",
       "</table>\n",
       "</div>"
      ],
      "text/plain": [
       "  collision_index legacy_collision_severity  number_of_casualties  \\\n",
       "0     0113CP00001                  3 Slight                     1   \n",
       "1     0113CP00002                  3 Slight                     1   \n",
       "2     0113CP00003                  3 Slight                     1   \n",
       "3     0113CP00005                  3 Slight                     1   \n",
       "4     0113CP00006                 2 Serious                     1   \n",
       "\n",
       "   number_of_vehicles        date day_of_week   time light_conditions  \\\n",
       "0                   2  02/01/2013   Wednesday  '0735       1 Daylight   \n",
       "1                   1  04/01/2013   Friday     '0658           2 Dark   \n",
       "2                   2  05/01/2013   Saturday   '1700           2 Dark   \n",
       "3                   1  11/01/2013   Friday     '0955       1 Daylight   \n",
       "4                   1  20/01/2013   Sunday     '1232       1 Daylight   \n",
       "\n",
       "  weather_conditions road_surface_conditions  collision_year  \\\n",
       "0             1 Fine              1 Road-Dry            2013   \n",
       "1             1 Fine              1 Road-Dry            2013   \n",
       "2             1 Fine              1 Road-Dry            2013   \n",
       "3             1 Fine              1 Road-Dry            2013   \n",
       "4          3 Snowing             3 Road-Snow            2013   \n",
       "\n",
       "  local_authority_ons_district  \n",
       "0                    E09000001  \n",
       "1                    E09000001  \n",
       "2                    E09000001  \n",
       "3                    E09000001  \n",
       "4                    E09000001  "
      ]
     },
     "execution_count": 149,
     "metadata": {},
     "output_type": "execute_result"
    }
   ],
   "source": [
    "attendant_df.head()"
   ]
  },
  {
   "cell_type": "code",
   "execution_count": 150,
   "id": "d843d6fe",
   "metadata": {},
   "outputs": [
    {
     "data": {
      "text/plain": [
       "Index(['collision_index', 'legacy_collision_severity', 'number_of_casualties',\n",
       "       'number_of_vehicles', 'date', 'day_of_week', 'time', 'light_conditions',\n",
       "       'weather_conditions', 'road_surface_conditions', 'collision_year',\n",
       "       'local_authority_ons_district'],\n",
       "      dtype='object')"
      ]
     },
     "execution_count": 150,
     "metadata": {},
     "output_type": "execute_result"
    }
   ],
   "source": [
    "attendant_df.columns"
   ]
  },
  {
   "cell_type": "code",
   "execution_count": 151,
   "id": "c1f3591b",
   "metadata": {},
   "outputs": [
    {
     "data": {
      "text/plain": [
       "3 Slight     113957\n",
       "2 Serious     11880\n",
       "1 Fatal         629\n",
       "Name: legacy_collision_severity, dtype: int64"
      ]
     },
     "execution_count": 151,
     "metadata": {},
     "output_type": "execute_result"
    }
   ],
   "source": [
    "attendant_df.legacy_collision_severity.value_counts()"
   ]
  },
  {
   "cell_type": "code",
   "execution_count": 152,
   "id": "7f35bab3",
   "metadata": {},
   "outputs": [],
   "source": [
    "attendant_df['legacy_collision_severity'] = attendant_df['legacy_collision_severity'].apply(lambda x : x[0])"
   ]
  },
  {
   "cell_type": "code",
   "execution_count": 153,
   "id": "1a5915c2",
   "metadata": {},
   "outputs": [
    {
     "data": {
      "text/plain": [
       "Friday       20501\n",
       "Wednesday    19509\n",
       "Thursday     19453\n",
       "Tuesday      19294\n",
       "Monday       17729\n",
       "Saturday     16540\n",
       "Sunday       13440\n",
       "Name: day_of_week, dtype: int64"
      ]
     },
     "execution_count": 153,
     "metadata": {},
     "output_type": "execute_result"
    }
   ],
   "source": [
    "attendant_df.day_of_week.value_counts()"
   ]
  },
  {
   "cell_type": "code",
   "execution_count": 154,
   "id": "63f3b742",
   "metadata": {},
   "outputs": [],
   "source": [
    "days_mapping = {\n",
    "    'Sunday   ' : 1,\n",
    "    'Monday   ' : 2,\n",
    "    'Tuesday  ' : 3,\n",
    "    'Wednesday' : 4,\n",
    "    'Thursday ' : 5,\n",
    "    'Friday   ' : 6,\n",
    "    'Saturday ' : 7\n",
    "}\n",
    "attendant_df['day_of_week'] = attendant_df['day_of_week'].apply(lambda x : days_mapping[x])"
   ]
  },
  {
   "cell_type": "code",
   "execution_count": 155,
   "id": "e88fac9f",
   "metadata": {},
   "outputs": [
    {
     "data": {
      "text/plain": [
       "1 Daylight    87931\n",
       "2 Dark        38535\n",
       "Name: light_conditions, dtype: int64"
      ]
     },
     "execution_count": 155,
     "metadata": {},
     "output_type": "execute_result"
    }
   ],
   "source": [
    "attendant_df.light_conditions.value_counts()"
   ]
  },
  {
   "cell_type": "code",
   "execution_count": 156,
   "id": "c94b941b",
   "metadata": {},
   "outputs": [],
   "source": [
    "attendant_df['light_conditions'] = attendant_df['light_conditions'].apply(lambda x : x[0])"
   ]
  },
  {
   "cell_type": "code",
   "execution_count": 157,
   "id": "685d9c00",
   "metadata": {},
   "outputs": [
    {
     "data": {
      "text/plain": [
       "1 Fine                  106382\n",
       "2 Raining                11834\n",
       "9 Unknown                 4374\n",
       "8 Other                   1762\n",
       "4 Fine/High Winds          804\n",
       "5 Raining/High Winds       774\n",
       "3 Snowing                  305\n",
       "7 Fog/Mist                 199\n",
       "6 Snowing/High Winds        32\n",
       "Name: weather_conditions, dtype: int64"
      ]
     },
     "execution_count": 157,
     "metadata": {},
     "output_type": "execute_result"
    }
   ],
   "source": [
    "attendant_df.weather_conditions.value_counts()"
   ]
  },
  {
   "cell_type": "code",
   "execution_count": 158,
   "id": "ec403884",
   "metadata": {},
   "outputs": [],
   "source": [
    "attendant_df['weather_conditions'] = attendant_df['weather_conditions'].apply(lambda x : x[0])"
   ]
  },
  {
   "cell_type": "code",
   "execution_count": 159,
   "id": "77a91047",
   "metadata": {},
   "outputs": [
    {
     "data": {
      "text/plain": [
       "1 Road-Dry          101415\n",
       "2 Road-Wet           22135\n",
       "9 Unknown (S/R)       2083\n",
       "4 Road-Frost/Ice       595\n",
       "3 Road-Snow            190\n",
       "5 Road-Flood            48\n",
       "Name: road_surface_conditions, dtype: int64"
      ]
     },
     "execution_count": 159,
     "metadata": {},
     "output_type": "execute_result"
    }
   ],
   "source": [
    "attendant_df.road_surface_conditions.value_counts()"
   ]
  },
  {
   "cell_type": "code",
   "execution_count": 160,
   "id": "55e43008",
   "metadata": {},
   "outputs": [],
   "source": [
    "attendant_df['road_surface_conditions'] = attendant_df['road_surface_conditions'].apply(lambda x : x[0])"
   ]
  },
  {
   "cell_type": "code",
   "execution_count": 161,
   "id": "49331e04",
   "metadata": {},
   "outputs": [
    {
     "data": {
      "text/plain": [
       "1    101415\n",
       "2     22135\n",
       "9      2083\n",
       "4       595\n",
       "3       190\n",
       "5        48\n",
       "Name: road_surface_conditions, dtype: int64"
      ]
     },
     "execution_count": 161,
     "metadata": {},
     "output_type": "execute_result"
    }
   ],
   "source": [
    "attendant_df.road_surface_conditions.value_counts()"
   ]
  },
  {
   "cell_type": "code",
   "execution_count": 162,
   "id": "45d7ad98",
   "metadata": {},
   "outputs": [],
   "source": [
    "attendant_df['time'] = attendant_df['time'].apply(lambda x : f'{x[1:3]}:{x[3:]}')"
   ]
  },
  {
   "cell_type": "code",
   "execution_count": 163,
   "id": "3885c78d",
   "metadata": {},
   "outputs": [
    {
     "data": {
      "text/plain": [
       "2017    27089\n",
       "2014    25992\n",
       "2015    25193\n",
       "2016    25126\n",
       "2013    23066\n",
       "Name: collision_year, dtype: int64"
      ]
     },
     "execution_count": 163,
     "metadata": {},
     "output_type": "execute_result"
    }
   ],
   "source": [
    "attendant_df.collision_year.value_counts().head()"
   ]
  },
  {
   "cell_type": "code",
   "execution_count": 164,
   "id": "e8ba3879",
   "metadata": {},
   "outputs": [
    {
     "data": {
      "text/html": [
       "<div>\n",
       "<style scoped>\n",
       "    .dataframe tbody tr th:only-of-type {\n",
       "        vertical-align: middle;\n",
       "    }\n",
       "\n",
       "    .dataframe tbody tr th {\n",
       "        vertical-align: top;\n",
       "    }\n",
       "\n",
       "    .dataframe thead th {\n",
       "        text-align: right;\n",
       "    }\n",
       "</style>\n",
       "<table border=\"1\" class=\"dataframe\">\n",
       "  <thead>\n",
       "    <tr style=\"text-align: right;\">\n",
       "      <th></th>\n",
       "      <th>collision_index</th>\n",
       "      <th>casualty_reference</th>\n",
       "      <th>age_band_of_casualty</th>\n",
       "      <th>casualty_class</th>\n",
       "      <th>sex_of_casualty</th>\n",
       "      <th>age_of_casualty</th>\n",
       "      <th>casualty_severity</th>\n",
       "    </tr>\n",
       "  </thead>\n",
       "  <tbody>\n",
       "    <tr>\n",
       "      <th>0</th>\n",
       "      <td>0113CP00001</td>\n",
       "      <td>1</td>\n",
       "      <td>25-59</td>\n",
       "      <td>1</td>\n",
       "      <td>1</td>\n",
       "      <td>52</td>\n",
       "      <td>3</td>\n",
       "    </tr>\n",
       "    <tr>\n",
       "      <th>1</th>\n",
       "      <td>0113CP00002</td>\n",
       "      <td>1</td>\n",
       "      <td>25-59</td>\n",
       "      <td>3</td>\n",
       "      <td>1</td>\n",
       "      <td>36</td>\n",
       "      <td>3</td>\n",
       "    </tr>\n",
       "    <tr>\n",
       "      <th>2</th>\n",
       "      <td>0113CP00003</td>\n",
       "      <td>1</td>\n",
       "      <td>25-59</td>\n",
       "      <td>1</td>\n",
       "      <td>1</td>\n",
       "      <td>26</td>\n",
       "      <td>3</td>\n",
       "    </tr>\n",
       "    <tr>\n",
       "      <th>3</th>\n",
       "      <td>0113CP00005</td>\n",
       "      <td>1</td>\n",
       "      <td>16-24</td>\n",
       "      <td>3</td>\n",
       "      <td>2</td>\n",
       "      <td>24</td>\n",
       "      <td>3</td>\n",
       "    </tr>\n",
       "    <tr>\n",
       "      <th>4</th>\n",
       "      <td>0113CP00006</td>\n",
       "      <td>1</td>\n",
       "      <td>16-24</td>\n",
       "      <td>3</td>\n",
       "      <td>2</td>\n",
       "      <td>23</td>\n",
       "      <td>2</td>\n",
       "    </tr>\n",
       "  </tbody>\n",
       "</table>\n",
       "</div>"
      ],
      "text/plain": [
       "  collision_index  casualty_reference age_band_of_casualty casualty_class  \\\n",
       "0     0113CP00001                   1                25-59              1   \n",
       "1     0113CP00002                   1                25-59              3   \n",
       "2     0113CP00003                   1                25-59              1   \n",
       "3     0113CP00005                   1                16-24              3   \n",
       "4     0113CP00006                   1                16-24              3   \n",
       "\n",
       "  sex_of_casualty  age_of_casualty casualty_severity  \n",
       "0               1               52                 3  \n",
       "1               1               36                 3  \n",
       "2               1               26                 3  \n",
       "3               2               24                 3  \n",
       "4               2               23                 2  "
      ]
     },
     "execution_count": 164,
     "metadata": {},
     "output_type": "execute_result"
    }
   ],
   "source": [
    "casualty_df.head()"
   ]
  },
  {
   "cell_type": "code",
   "execution_count": 165,
   "id": "2b8112b3",
   "metadata": {},
   "outputs": [
    {
     "data": {
      "text/html": [
       "<div>\n",
       "<style scoped>\n",
       "    .dataframe tbody tr th:only-of-type {\n",
       "        vertical-align: middle;\n",
       "    }\n",
       "\n",
       "    .dataframe tbody tr th {\n",
       "        vertical-align: top;\n",
       "    }\n",
       "\n",
       "    .dataframe thead th {\n",
       "        text-align: right;\n",
       "    }\n",
       "</style>\n",
       "<table border=\"1\" class=\"dataframe\">\n",
       "  <thead>\n",
       "    <tr style=\"text-align: right;\">\n",
       "      <th></th>\n",
       "      <th>collision_index</th>\n",
       "      <th>legacy_collision_severity</th>\n",
       "      <th>number_of_casualties</th>\n",
       "      <th>number_of_vehicles</th>\n",
       "      <th>date</th>\n",
       "      <th>day_of_week</th>\n",
       "      <th>time</th>\n",
       "      <th>light_conditions</th>\n",
       "      <th>weather_conditions</th>\n",
       "      <th>road_surface_conditions</th>\n",
       "      <th>collision_year</th>\n",
       "      <th>local_authority_ons_district</th>\n",
       "    </tr>\n",
       "  </thead>\n",
       "  <tbody>\n",
       "    <tr>\n",
       "      <th>0</th>\n",
       "      <td>0113CP00001</td>\n",
       "      <td>3</td>\n",
       "      <td>1</td>\n",
       "      <td>2</td>\n",
       "      <td>02/01/2013</td>\n",
       "      <td>4</td>\n",
       "      <td>07:35</td>\n",
       "      <td>1</td>\n",
       "      <td>1</td>\n",
       "      <td>1</td>\n",
       "      <td>2013</td>\n",
       "      <td>E09000001</td>\n",
       "    </tr>\n",
       "    <tr>\n",
       "      <th>1</th>\n",
       "      <td>0113CP00002</td>\n",
       "      <td>3</td>\n",
       "      <td>1</td>\n",
       "      <td>1</td>\n",
       "      <td>04/01/2013</td>\n",
       "      <td>6</td>\n",
       "      <td>06:58</td>\n",
       "      <td>2</td>\n",
       "      <td>1</td>\n",
       "      <td>1</td>\n",
       "      <td>2013</td>\n",
       "      <td>E09000001</td>\n",
       "    </tr>\n",
       "    <tr>\n",
       "      <th>2</th>\n",
       "      <td>0113CP00003</td>\n",
       "      <td>3</td>\n",
       "      <td>1</td>\n",
       "      <td>2</td>\n",
       "      <td>05/01/2013</td>\n",
       "      <td>7</td>\n",
       "      <td>17:00</td>\n",
       "      <td>2</td>\n",
       "      <td>1</td>\n",
       "      <td>1</td>\n",
       "      <td>2013</td>\n",
       "      <td>E09000001</td>\n",
       "    </tr>\n",
       "    <tr>\n",
       "      <th>3</th>\n",
       "      <td>0113CP00005</td>\n",
       "      <td>3</td>\n",
       "      <td>1</td>\n",
       "      <td>1</td>\n",
       "      <td>11/01/2013</td>\n",
       "      <td>6</td>\n",
       "      <td>09:55</td>\n",
       "      <td>1</td>\n",
       "      <td>1</td>\n",
       "      <td>1</td>\n",
       "      <td>2013</td>\n",
       "      <td>E09000001</td>\n",
       "    </tr>\n",
       "    <tr>\n",
       "      <th>4</th>\n",
       "      <td>0113CP00006</td>\n",
       "      <td>2</td>\n",
       "      <td>1</td>\n",
       "      <td>1</td>\n",
       "      <td>20/01/2013</td>\n",
       "      <td>1</td>\n",
       "      <td>12:32</td>\n",
       "      <td>1</td>\n",
       "      <td>3</td>\n",
       "      <td>3</td>\n",
       "      <td>2013</td>\n",
       "      <td>E09000001</td>\n",
       "    </tr>\n",
       "  </tbody>\n",
       "</table>\n",
       "</div>"
      ],
      "text/plain": [
       "  collision_index legacy_collision_severity  number_of_casualties  \\\n",
       "0     0113CP00001                         3                     1   \n",
       "1     0113CP00002                         3                     1   \n",
       "2     0113CP00003                         3                     1   \n",
       "3     0113CP00005                         3                     1   \n",
       "4     0113CP00006                         2                     1   \n",
       "\n",
       "   number_of_vehicles        date  day_of_week   time light_conditions  \\\n",
       "0                   2  02/01/2013            4  07:35                1   \n",
       "1                   1  04/01/2013            6  06:58                2   \n",
       "2                   2  05/01/2013            7  17:00                2   \n",
       "3                   1  11/01/2013            6  09:55                1   \n",
       "4                   1  20/01/2013            1  12:32                1   \n",
       "\n",
       "  weather_conditions road_surface_conditions  collision_year  \\\n",
       "0                  1                       1            2013   \n",
       "1                  1                       1            2013   \n",
       "2                  1                       1            2013   \n",
       "3                  1                       1            2013   \n",
       "4                  3                       3            2013   \n",
       "\n",
       "  local_authority_ons_district  \n",
       "0                    E09000001  \n",
       "1                    E09000001  \n",
       "2                    E09000001  \n",
       "3                    E09000001  \n",
       "4                    E09000001  "
      ]
     },
     "execution_count": 165,
     "metadata": {},
     "output_type": "execute_result"
    }
   ],
   "source": [
    "attendant_df.head()"
   ]
  },
  {
   "cell_type": "code",
   "execution_count": 166,
   "id": "292833f5",
   "metadata": {},
   "outputs": [
    {
     "data": {
      "text/plain": [
       "(151003, 7)"
      ]
     },
     "execution_count": 166,
     "metadata": {},
     "output_type": "execute_result"
    }
   ],
   "source": [
    "casualty_df.shape"
   ]
  },
  {
   "cell_type": "code",
   "execution_count": 167,
   "id": "a5cd24e4",
   "metadata": {},
   "outputs": [
    {
     "data": {
      "text/plain": [
       "(126466, 12)"
      ]
     },
     "execution_count": 167,
     "metadata": {},
     "output_type": "execute_result"
    }
   ],
   "source": [
    "attendant_df.shape"
   ]
  },
  {
   "cell_type": "code",
   "execution_count": 169,
   "id": "827d0331",
   "metadata": {},
   "outputs": [],
   "source": [
    "df = pd.merge(attendant_df,casualty_df,how='inner')"
   ]
  },
  {
   "cell_type": "code",
   "execution_count": 171,
   "id": "1c3842c2",
   "metadata": {},
   "outputs": [
    {
     "data": {
      "text/html": [
       "<div>\n",
       "<style scoped>\n",
       "    .dataframe tbody tr th:only-of-type {\n",
       "        vertical-align: middle;\n",
       "    }\n",
       "\n",
       "    .dataframe tbody tr th {\n",
       "        vertical-align: top;\n",
       "    }\n",
       "\n",
       "    .dataframe thead th {\n",
       "        text-align: right;\n",
       "    }\n",
       "</style>\n",
       "<table border=\"1\" class=\"dataframe\">\n",
       "  <thead>\n",
       "    <tr style=\"text-align: right;\">\n",
       "      <th></th>\n",
       "      <th>collision_index</th>\n",
       "      <th>legacy_collision_severity</th>\n",
       "      <th>number_of_casualties</th>\n",
       "      <th>number_of_vehicles</th>\n",
       "      <th>date</th>\n",
       "      <th>day_of_week</th>\n",
       "      <th>time</th>\n",
       "      <th>light_conditions</th>\n",
       "      <th>weather_conditions</th>\n",
       "      <th>road_surface_conditions</th>\n",
       "      <th>collision_year</th>\n",
       "      <th>local_authority_ons_district</th>\n",
       "      <th>casualty_reference</th>\n",
       "      <th>age_band_of_casualty</th>\n",
       "      <th>casualty_class</th>\n",
       "      <th>sex_of_casualty</th>\n",
       "      <th>age_of_casualty</th>\n",
       "      <th>casualty_severity</th>\n",
       "    </tr>\n",
       "  </thead>\n",
       "  <tbody>\n",
       "    <tr>\n",
       "      <th>150998</th>\n",
       "      <td>1170092692</td>\n",
       "      <td>3</td>\n",
       "      <td>4</td>\n",
       "      <td>2</td>\n",
       "      <td>28/10/2017</td>\n",
       "      <td>7</td>\n",
       "      <td>10:20</td>\n",
       "      <td>1</td>\n",
       "      <td>1</td>\n",
       "      <td>1</td>\n",
       "      <td>2017</td>\n",
       "      <td>E09000010</td>\n",
       "      <td>1</td>\n",
       "      <td>25-59</td>\n",
       "      <td>1</td>\n",
       "      <td>1</td>\n",
       "      <td>49</td>\n",
       "      <td>3</td>\n",
       "    </tr>\n",
       "    <tr>\n",
       "      <th>150999</th>\n",
       "      <td>1170094487</td>\n",
       "      <td>3</td>\n",
       "      <td>1</td>\n",
       "      <td>1</td>\n",
       "      <td>11/11/2017</td>\n",
       "      <td>7</td>\n",
       "      <td>17:30</td>\n",
       "      <td>2</td>\n",
       "      <td>9</td>\n",
       "      <td>9</td>\n",
       "      <td>2017</td>\n",
       "      <td>E09000010</td>\n",
       "      <td>1</td>\n",
       "      <td>60+</td>\n",
       "      <td>1</td>\n",
       "      <td>2</td>\n",
       "      <td>60</td>\n",
       "      <td>3</td>\n",
       "    </tr>\n",
       "    <tr>\n",
       "      <th>151000</th>\n",
       "      <td>1170097147</td>\n",
       "      <td>3</td>\n",
       "      <td>1</td>\n",
       "      <td>1</td>\n",
       "      <td>22/09/2017</td>\n",
       "      <td>6</td>\n",
       "      <td>07:40</td>\n",
       "      <td>1</td>\n",
       "      <td>1</td>\n",
       "      <td>1</td>\n",
       "      <td>2017</td>\n",
       "      <td>E09000010</td>\n",
       "      <td>1</td>\n",
       "      <td>0-15</td>\n",
       "      <td>3</td>\n",
       "      <td>2</td>\n",
       "      <td>12</td>\n",
       "      <td>3</td>\n",
       "    </tr>\n",
       "    <tr>\n",
       "      <th>151001</th>\n",
       "      <td>1170105284</td>\n",
       "      <td>3</td>\n",
       "      <td>2</td>\n",
       "      <td>4</td>\n",
       "      <td>11/07/2017</td>\n",
       "      <td>3</td>\n",
       "      <td>23:30</td>\n",
       "      <td>2</td>\n",
       "      <td>9</td>\n",
       "      <td>9</td>\n",
       "      <td>2017</td>\n",
       "      <td>E09000010</td>\n",
       "      <td>1</td>\n",
       "      <td>60+</td>\n",
       "      <td>2</td>\n",
       "      <td>2</td>\n",
       "      <td>63</td>\n",
       "      <td>3</td>\n",
       "    </tr>\n",
       "    <tr>\n",
       "      <th>151002</th>\n",
       "      <td>1170105284</td>\n",
       "      <td>3</td>\n",
       "      <td>2</td>\n",
       "      <td>4</td>\n",
       "      <td>11/07/2017</td>\n",
       "      <td>3</td>\n",
       "      <td>23:30</td>\n",
       "      <td>2</td>\n",
       "      <td>9</td>\n",
       "      <td>9</td>\n",
       "      <td>2017</td>\n",
       "      <td>E09000010</td>\n",
       "      <td>2</td>\n",
       "      <td>25-59</td>\n",
       "      <td>2</td>\n",
       "      <td>1</td>\n",
       "      <td>40</td>\n",
       "      <td>3</td>\n",
       "    </tr>\n",
       "  </tbody>\n",
       "</table>\n",
       "</div>"
      ],
      "text/plain": [
       "       collision_index legacy_collision_severity  number_of_casualties  \\\n",
       "150998      1170092692                         3                     4   \n",
       "150999      1170094487                         3                     1   \n",
       "151000      1170097147                         3                     1   \n",
       "151001      1170105284                         3                     2   \n",
       "151002      1170105284                         3                     2   \n",
       "\n",
       "        number_of_vehicles        date  day_of_week   time light_conditions  \\\n",
       "150998                   2  28/10/2017            7  10:20                1   \n",
       "150999                   1  11/11/2017            7  17:30                2   \n",
       "151000                   1  22/09/2017            6  07:40                1   \n",
       "151001                   4  11/07/2017            3  23:30                2   \n",
       "151002                   4  11/07/2017            3  23:30                2   \n",
       "\n",
       "       weather_conditions road_surface_conditions  collision_year  \\\n",
       "150998                  1                       1            2017   \n",
       "150999                  9                       9            2017   \n",
       "151000                  1                       1            2017   \n",
       "151001                  9                       9            2017   \n",
       "151002                  9                       9            2017   \n",
       "\n",
       "       local_authority_ons_district  casualty_reference age_band_of_casualty  \\\n",
       "150998                    E09000010                   1                25-59   \n",
       "150999                    E09000010                   1                  60+   \n",
       "151000                    E09000010                   1                 0-15   \n",
       "151001                    E09000010                   1                  60+   \n",
       "151002                    E09000010                   2                25-59   \n",
       "\n",
       "       casualty_class sex_of_casualty  age_of_casualty casualty_severity  \n",
       "150998              1               1               49                 3  \n",
       "150999              1               2               60                 3  \n",
       "151000              3               2               12                 3  \n",
       "151001              2               2               63                 3  \n",
       "151002              2               1               40                 3  "
      ]
     },
     "execution_count": 171,
     "metadata": {},
     "output_type": "execute_result"
    }
   ],
   "source": [
    "df.tail()"
   ]
  },
  {
   "cell_type": "code",
   "execution_count": null,
   "id": "0936d9fb",
   "metadata": {},
   "outputs": [],
   "source": [
    "# 1. What are the number of accidents across different boroughs in London City (UK) from\n",
    "# the year Jul’13 to June’23?\n",
    "# Casuality data, borough name\n",
    "# 2. Which age band has the highest number of accidents in the last 10 years across\n",
    "# London City?\n",
    "# Casualty data, Casualty Age (5 Year Bands) and Casualty Age\n",
    "# 3. Which weather & light conditions influence the number of accidents in specific areas\n",
    "# of London City from 2013 to 2023?\n",
    "# Attendant data and casualty data, Light conditions and weather details\n",
    "# 4. Which hours of the day & days of the week have a higher number of accidents across\n",
    "# London City from 2013 to 2023?\n",
    "# Casualty data, Collision Date, need to derive day of the week \n",
    "# 5. Provide a trend of the top 5 areas having a higher number of casualties across London\n",
    "# City from 2013 to 2023\n",
    "# Casualty data, borough name\n",
    "# 6. What are the top 5 most accident-affected areas in London City in each year of the past\n",
    "# decade Jul’13 to Jun’23?\n",
    "# casualty data, borough name"
   ]
  }
 ],
 "metadata": {
  "kernelspec": {
   "display_name": "Python 3 (ipykernel)",
   "language": "python",
   "name": "python3"
  },
  "language_info": {
   "codemirror_mode": {
    "name": "ipython",
    "version": 3
   },
   "file_extension": ".py",
   "mimetype": "text/x-python",
   "name": "python",
   "nbconvert_exporter": "python",
   "pygments_lexer": "ipython3",
   "version": "3.9.12"
  }
 },
 "nbformat": 4,
 "nbformat_minor": 5
}
