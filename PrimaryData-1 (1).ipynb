{
 "cells": [
  {
   "cell_type": "markdown",
   "metadata": {},
   "source": [
    "# Data Analysis"
   ]
  },
  {
   "cell_type": "markdown",
   "metadata": {},
   "source": [
    "## Import Libraries"
   ]
  },
  {
   "cell_type": "code",
   "execution_count": 1,
   "metadata": {},
   "outputs": [],
   "source": [
    "import pandas as pd"
   ]
  },
  {
   "cell_type": "markdown",
   "metadata": {},
   "source": [
    "# Primary Data"
   ]
  },
  {
   "cell_type": "code",
   "execution_count": 2,
   "metadata": {},
   "outputs": [],
   "source": [
    "casualty5years_df = pd.read_csv('dft-road-casualty-statistics-casualty-last-5-years.csv',low_memory=False)\n",
    "collision5years_df = pd.read_csv('dft-road-casualty-statistics-collision-last-5-years.csv',low_memory=False)"
   ]
  },
  {
   "cell_type": "code",
   "execution_count": 3,
   "metadata": {},
   "outputs": [],
   "source": [
    "casualty2023_df = pd.read_csv('dft-road-casualty-statistics-casualty-provisional-mid-year-unvalidated-2023.csv',low_memory=False)\n",
    "collision2023_df = pd.read_csv('dft-road-casualty-statistics-collision-provisional-mid-year-unvalidated-2023.csv',low_memory=False)"
   ]
  },
  {
   "cell_type": "code",
   "execution_count": 4,
   "metadata": {},
   "outputs": [
    {
     "data": {
      "text/html": [
       "<div>\n",
       "<style scoped>\n",
       "    .dataframe tbody tr th:only-of-type {\n",
       "        vertical-align: middle;\n",
       "    }\n",
       "\n",
       "    .dataframe tbody tr th {\n",
       "        vertical-align: top;\n",
       "    }\n",
       "\n",
       "    .dataframe thead th {\n",
       "        text-align: right;\n",
       "    }\n",
       "</style>\n",
       "<table border=\"1\" class=\"dataframe\">\n",
       "  <thead>\n",
       "    <tr style=\"text-align: right;\">\n",
       "      <th></th>\n",
       "      <th>accident_index</th>\n",
       "      <th>accident_year</th>\n",
       "      <th>accident_reference</th>\n",
       "      <th>vehicle_reference</th>\n",
       "      <th>casualty_reference</th>\n",
       "      <th>casualty_class</th>\n",
       "      <th>sex_of_casualty</th>\n",
       "      <th>age_of_casualty</th>\n",
       "      <th>age_band_of_casualty</th>\n",
       "      <th>casualty_severity</th>\n",
       "      <th>pedestrian_location</th>\n",
       "      <th>pedestrian_movement</th>\n",
       "      <th>car_passenger</th>\n",
       "      <th>bus_or_coach_passenger</th>\n",
       "      <th>pedestrian_road_maintenance_worker</th>\n",
       "      <th>casualty_type</th>\n",
       "      <th>casualty_home_area_type</th>\n",
       "      <th>casualty_imd_decile</th>\n",
       "      <th>lsoa_of_casualty</th>\n",
       "    </tr>\n",
       "  </thead>\n",
       "  <tbody>\n",
       "    <tr>\n",
       "      <th>0</th>\n",
       "      <td>2018010080971</td>\n",
       "      <td>2018</td>\n",
       "      <td>010080971</td>\n",
       "      <td>1</td>\n",
       "      <td>1</td>\n",
       "      <td>2</td>\n",
       "      <td>2</td>\n",
       "      <td>50</td>\n",
       "      <td>8</td>\n",
       "      <td>3</td>\n",
       "      <td>0</td>\n",
       "      <td>0</td>\n",
       "      <td>2</td>\n",
       "      <td>0</td>\n",
       "      <td>0</td>\n",
       "      <td>9</td>\n",
       "      <td>1</td>\n",
       "      <td>8</td>\n",
       "      <td>E01011051</td>\n",
       "    </tr>\n",
       "    <tr>\n",
       "      <th>1</th>\n",
       "      <td>2018010080971</td>\n",
       "      <td>2018</td>\n",
       "      <td>010080971</td>\n",
       "      <td>2</td>\n",
       "      <td>2</td>\n",
       "      <td>1</td>\n",
       "      <td>1</td>\n",
       "      <td>48</td>\n",
       "      <td>8</td>\n",
       "      <td>3</td>\n",
       "      <td>0</td>\n",
       "      <td>0</td>\n",
       "      <td>0</td>\n",
       "      <td>0</td>\n",
       "      <td>0</td>\n",
       "      <td>8</td>\n",
       "      <td>1</td>\n",
       "      <td>1</td>\n",
       "      <td>E01002066</td>\n",
       "    </tr>\n",
       "    <tr>\n",
       "      <th>2</th>\n",
       "      <td>2018010080973</td>\n",
       "      <td>2018</td>\n",
       "      <td>010080973</td>\n",
       "      <td>1</td>\n",
       "      <td>1</td>\n",
       "      <td>3</td>\n",
       "      <td>1</td>\n",
       "      <td>29</td>\n",
       "      <td>6</td>\n",
       "      <td>3</td>\n",
       "      <td>5</td>\n",
       "      <td>1</td>\n",
       "      <td>0</td>\n",
       "      <td>0</td>\n",
       "      <td>2</td>\n",
       "      <td>0</td>\n",
       "      <td>1</td>\n",
       "      <td>3</td>\n",
       "      <td>E01003531</td>\n",
       "    </tr>\n",
       "    <tr>\n",
       "      <th>3</th>\n",
       "      <td>2018010080974</td>\n",
       "      <td>2018</td>\n",
       "      <td>010080974</td>\n",
       "      <td>1</td>\n",
       "      <td>1</td>\n",
       "      <td>1</td>\n",
       "      <td>1</td>\n",
       "      <td>40</td>\n",
       "      <td>7</td>\n",
       "      <td>3</td>\n",
       "      <td>0</td>\n",
       "      <td>0</td>\n",
       "      <td>0</td>\n",
       "      <td>0</td>\n",
       "      <td>0</td>\n",
       "      <td>8</td>\n",
       "      <td>1</td>\n",
       "      <td>3</td>\n",
       "      <td>E01000185</td>\n",
       "    </tr>\n",
       "    <tr>\n",
       "      <th>4</th>\n",
       "      <td>2018010080981</td>\n",
       "      <td>2018</td>\n",
       "      <td>010080981</td>\n",
       "      <td>1</td>\n",
       "      <td>1</td>\n",
       "      <td>1</td>\n",
       "      <td>1</td>\n",
       "      <td>27</td>\n",
       "      <td>6</td>\n",
       "      <td>2</td>\n",
       "      <td>0</td>\n",
       "      <td>0</td>\n",
       "      <td>0</td>\n",
       "      <td>0</td>\n",
       "      <td>0</td>\n",
       "      <td>9</td>\n",
       "      <td>1</td>\n",
       "      <td>7</td>\n",
       "      <td>E01003643</td>\n",
       "    </tr>\n",
       "  </tbody>\n",
       "</table>\n",
       "</div>"
      ],
      "text/plain": [
       "  accident_index  accident_year accident_reference  vehicle_reference  \\\n",
       "0  2018010080971           2018          010080971                  1   \n",
       "1  2018010080971           2018          010080971                  2   \n",
       "2  2018010080973           2018          010080973                  1   \n",
       "3  2018010080974           2018          010080974                  1   \n",
       "4  2018010080981           2018          010080981                  1   \n",
       "\n",
       "   casualty_reference  casualty_class  sex_of_casualty  age_of_casualty  \\\n",
       "0                   1               2                2               50   \n",
       "1                   2               1                1               48   \n",
       "2                   1               3                1               29   \n",
       "3                   1               1                1               40   \n",
       "4                   1               1                1               27   \n",
       "\n",
       "   age_band_of_casualty  casualty_severity  pedestrian_location  \\\n",
       "0                     8                  3                    0   \n",
       "1                     8                  3                    0   \n",
       "2                     6                  3                    5   \n",
       "3                     7                  3                    0   \n",
       "4                     6                  2                    0   \n",
       "\n",
       "   pedestrian_movement  car_passenger  bus_or_coach_passenger  \\\n",
       "0                    0              2                       0   \n",
       "1                    0              0                       0   \n",
       "2                    1              0                       0   \n",
       "3                    0              0                       0   \n",
       "4                    0              0                       0   \n",
       "\n",
       "   pedestrian_road_maintenance_worker  casualty_type  casualty_home_area_type  \\\n",
       "0                                   0              9                        1   \n",
       "1                                   0              8                        1   \n",
       "2                                   2              0                        1   \n",
       "3                                   0              8                        1   \n",
       "4                                   0              9                        1   \n",
       "\n",
       "   casualty_imd_decile lsoa_of_casualty  \n",
       "0                    8        E01011051  \n",
       "1                    1        E01002066  \n",
       "2                    3        E01003531  \n",
       "3                    3        E01000185  \n",
       "4                    7        E01003643  "
      ]
     },
     "execution_count": 4,
     "metadata": {},
     "output_type": "execute_result"
    }
   ],
   "source": [
    "casualty5years_df.head()"
   ]
  },
  {
   "cell_type": "code",
   "execution_count": null,
   "metadata": {},
   "outputs": [],
   "source": []
  },
  {
   "cell_type": "markdown",
   "metadata": {},
   "source": [
    "### Rename columns"
   ]
  },
  {
   "cell_type": "code",
   "execution_count": 5,
   "metadata": {},
   "outputs": [],
   "source": [
    "cols = {'accident_index':'collision_index','accident_year':'collision_year','accident_reference':'collision_reference',\n",
    "        'accident_severity':'legacy_collision_severity','did_police_officer_attend_scene_of_accident':'did_police_officer_attend_scene_of_collision',\n",
    "        'lsoa_of_accident_location':'lsoa_of_collision_location'}\n",
    "casualty5years_df.rename(columns=cols,inplace=True)\n",
    "collision5years_df.rename(columns=cols,inplace=True)"
   ]
  },
  {
   "cell_type": "code",
   "execution_count": 6,
   "metadata": {},
   "outputs": [
    {
     "name": "stdout",
     "output_type": "stream",
     "text": [
      "(693028, 19)\n",
      "(538461, 36)\n"
     ]
    }
   ],
   "source": [
    "print(casualty5years_df.shape)\n",
    "print(collision5years_df.shape)"
   ]
  },
  {
   "cell_type": "code",
   "execution_count": 7,
   "metadata": {},
   "outputs": [
    {
     "name": "stdout",
     "output_type": "stream",
     "text": [
      "(62674, 19)\n",
      "(49316, 36)\n"
     ]
    }
   ],
   "source": [
    "print(casualty2023_df.shape)\n",
    "print(collision2023_df.shape)"
   ]
  },
  {
   "cell_type": "code",
   "execution_count": 8,
   "metadata": {},
   "outputs": [
    {
     "data": {
      "text/plain": [
       "array([ True,  True,  True,  True,  True,  True,  True,  True,  True,\n",
       "        True,  True,  True,  True,  True,  True,  True,  True,  True,\n",
       "        True])"
      ]
     },
     "execution_count": 8,
     "metadata": {},
     "output_type": "execute_result"
    }
   ],
   "source": [
    "casualty5years_df.columns == casualty2023_df.columns"
   ]
  },
  {
   "cell_type": "code",
   "execution_count": 9,
   "metadata": {},
   "outputs": [
    {
     "data": {
      "text/plain": [
       "array([ True,  True,  True,  True,  True,  True,  True,  True,  True,\n",
       "        True,  True,  True,  True,  True,  True,  True,  True,  True,\n",
       "        True,  True,  True,  True,  True,  True,  True,  True,  True,\n",
       "        True,  True,  True,  True,  True,  True,  True,  True,  True])"
      ]
     },
     "execution_count": 9,
     "metadata": {},
     "output_type": "execute_result"
    }
   ],
   "source": [
    "collision5years_df.columns == collision2023_df.columns"
   ]
  },
  {
   "cell_type": "markdown",
   "metadata": {},
   "source": [
    "### Combining data"
   ]
  },
  {
   "cell_type": "code",
   "execution_count": 10,
   "metadata": {},
   "outputs": [],
   "source": [
    "casualty_df = pd.concat([casualty5years_df,casualty2023_df],axis=0)\n",
    "collision_df = pd.concat([collision5years_df,collision2023_df],axis=0)"
   ]
  },
  {
   "cell_type": "code",
   "execution_count": 11,
   "metadata": {},
   "outputs": [
    {
     "name": "stdout",
     "output_type": "stream",
     "text": [
      "(755702, 19)\n",
      "(587777, 36)\n",
      "755702 19\n",
      "587777 36\n"
     ]
    }
   ],
   "source": [
    "print(casualty_df.shape)\n",
    "print(collision_df.shape)\n",
    "print(casualty2023_df.shape[0]+casualty5years_df.shape[0],casualty2023_df.shape[1])\n",
    "print(collision2023_df.shape[0]+collision5years_df.shape[0],collision5years_df.shape[1])"
   ]
  },
  {
   "cell_type": "markdown",
   "metadata": {},
   "source": [
    "## Check for missing values"
   ]
  },
  {
   "cell_type": "code",
   "execution_count": 13,
   "metadata": {},
   "outputs": [
    {
     "name": "stdout",
     "output_type": "stream",
     "text": [
      "Missing values in each column:\n",
      " collision_index                       0\n",
      "collision_year                        0\n",
      "collision_reference                   0\n",
      "vehicle_reference                     0\n",
      "casualty_reference                    0\n",
      "casualty_class                        0\n",
      "sex_of_casualty                       0\n",
      "age_of_casualty                       0\n",
      "age_band_of_casualty                  0\n",
      "casualty_severity                     0\n",
      "pedestrian_location                   0\n",
      "pedestrian_movement                   0\n",
      "car_passenger                         0\n",
      "bus_or_coach_passenger                0\n",
      "pedestrian_road_maintenance_worker    0\n",
      "casualty_type                         0\n",
      "casualty_home_area_type               0\n",
      "casualty_imd_decile                   0\n",
      "lsoa_of_casualty                      0\n",
      "dtype: int64\n",
      "Percentage of missing data in each column:\n",
      " collision_index                       0.0\n",
      "collision_year                        0.0\n",
      "collision_reference                   0.0\n",
      "vehicle_reference                     0.0\n",
      "casualty_reference                    0.0\n",
      "casualty_class                        0.0\n",
      "sex_of_casualty                       0.0\n",
      "age_of_casualty                       0.0\n",
      "age_band_of_casualty                  0.0\n",
      "casualty_severity                     0.0\n",
      "pedestrian_location                   0.0\n",
      "pedestrian_movement                   0.0\n",
      "car_passenger                         0.0\n",
      "bus_or_coach_passenger                0.0\n",
      "pedestrian_road_maintenance_worker    0.0\n",
      "casualty_type                         0.0\n",
      "casualty_home_area_type               0.0\n",
      "casualty_imd_decile                   0.0\n",
      "lsoa_of_casualty                      0.0\n",
      "dtype: float64\n"
     ]
    }
   ],
   "source": [
    "# Check for missing values in casualty df\n",
    "missing_data = casualty_df.isnull().sum()\n",
    "print(\"Missing values in each column:\\n\", missing_data)\n",
    "\n",
    "# Check for columns with missing data as a percentage of the total\n",
    "missing_percentage = (casualty_df.isnull().sum() / len(casualty_df)) * 100\n",
    "print(\"Percentage of missing data in each column:\\n\", missing_percentage)\n"
   ]
  },
  {
   "cell_type": "code",
   "execution_count": 14,
   "metadata": {},
   "outputs": [
    {
     "name": "stdout",
     "output_type": "stream",
     "text": [
      "Missing values in each column:\n",
      " collision_index                                   0\n",
      "collision_year                                    0\n",
      "collision_reference                               0\n",
      "location_easting_osgr                           220\n",
      "location_northing_osgr                          220\n",
      "longitude                                       220\n",
      "latitude                                        220\n",
      "police_force                                      0\n",
      "legacy_collision_severity                         0\n",
      "number_of_vehicles                                0\n",
      "number_of_casualties                              0\n",
      "date                                              0\n",
      "day_of_week                                       0\n",
      "time                                              0\n",
      "local_authority_district                          0\n",
      "local_authority_ons_district                      0\n",
      "local_authority_highway                           0\n",
      "first_road_class                                  0\n",
      "first_road_number                                 0\n",
      "road_type                                         0\n",
      "speed_limit                                       0\n",
      "junction_detail                                   0\n",
      "junction_control                                  0\n",
      "second_road_class                                 0\n",
      "second_road_number                                0\n",
      "pedestrian_crossing_human_control                 0\n",
      "pedestrian_crossing_physical_facilities           0\n",
      "light_conditions                                  0\n",
      "weather_conditions                                0\n",
      "road_surface_conditions                           0\n",
      "special_conditions_at_site                        0\n",
      "carriageway_hazards                               0\n",
      "urban_or_rural_area                               0\n",
      "did_police_officer_attend_scene_of_collision      0\n",
      "trunk_road_flag                                   0\n",
      "lsoa_of_collision_location                        0\n",
      "dtype: int64\n",
      "Percentage of missing data in each column:\n",
      " collision_index                                 0.000000\n",
      "collision_year                                  0.000000\n",
      "collision_reference                             0.000000\n",
      "location_easting_osgr                           0.037429\n",
      "location_northing_osgr                          0.037429\n",
      "longitude                                       0.037429\n",
      "latitude                                        0.037429\n",
      "police_force                                    0.000000\n",
      "legacy_collision_severity                       0.000000\n",
      "number_of_vehicles                              0.000000\n",
      "number_of_casualties                            0.000000\n",
      "date                                            0.000000\n",
      "day_of_week                                     0.000000\n",
      "time                                            0.000000\n",
      "local_authority_district                        0.000000\n",
      "local_authority_ons_district                    0.000000\n",
      "local_authority_highway                         0.000000\n",
      "first_road_class                                0.000000\n",
      "first_road_number                               0.000000\n",
      "road_type                                       0.000000\n",
      "speed_limit                                     0.000000\n",
      "junction_detail                                 0.000000\n",
      "junction_control                                0.000000\n",
      "second_road_class                               0.000000\n",
      "second_road_number                              0.000000\n",
      "pedestrian_crossing_human_control               0.000000\n",
      "pedestrian_crossing_physical_facilities         0.000000\n",
      "light_conditions                                0.000000\n",
      "weather_conditions                              0.000000\n",
      "road_surface_conditions                         0.000000\n",
      "special_conditions_at_site                      0.000000\n",
      "carriageway_hazards                             0.000000\n",
      "urban_or_rural_area                             0.000000\n",
      "did_police_officer_attend_scene_of_collision    0.000000\n",
      "trunk_road_flag                                 0.000000\n",
      "lsoa_of_collision_location                      0.000000\n",
      "dtype: float64\n"
     ]
    }
   ],
   "source": [
    "# Check for missing values in coliision df\n",
    "missing_data = collision_df.isnull().sum()\n",
    "print(\"Missing values in each column:\\n\", missing_data)\n",
    "\n",
    "# Check for columns with missing data as a percentage of the total\n",
    "missing_percentage = (collision_df.isnull().sum() / len(collision_df)) * 100\n",
    "print(\"Percentage of missing data in each column:\\n\", missing_percentage)\n"
   ]
  },
  {
   "cell_type": "markdown",
   "metadata": {},
   "source": [
    "## Check for data type"
   ]
  },
  {
   "cell_type": "code",
   "execution_count": 55,
   "metadata": {},
   "outputs": [
    {
     "name": "stdout",
     "output_type": "stream",
     "text": [
      "Data types of each column:\n",
      " collision_index         object\n",
      "casualty_reference       int64\n",
      "age_band_of_casualty     int64\n",
      "casualty_class           int64\n",
      "sex_of_casualty          int64\n",
      "age_of_casualty          int64\n",
      "casualty_severity        int64\n",
      "dtype: object\n"
     ]
    }
   ],
   "source": [
    "# Display data types of each column\n",
    "print(\"Data types of each column:\\n\", casualty_df.dtypes)"
   ]
  },
  {
   "cell_type": "code",
   "execution_count": 19,
   "metadata": {},
   "outputs": [
    {
     "name": "stdout",
     "output_type": "stream",
     "text": [
      "Data types of each column:\n",
      " collision_index                                  object\n",
      "collision_year                                    int64\n",
      "collision_reference                              object\n",
      "location_easting_osgr                           float64\n",
      "location_northing_osgr                          float64\n",
      "longitude                                       float64\n",
      "latitude                                        float64\n",
      "police_force                                      int64\n",
      "legacy_collision_severity                         int64\n",
      "number_of_vehicles                                int64\n",
      "number_of_casualties                              int64\n",
      "date                                             object\n",
      "day_of_week                                       int64\n",
      "time                                             object\n",
      "local_authority_district                          int64\n",
      "local_authority_ons_district                     object\n",
      "local_authority_highway                          object\n",
      "first_road_class                                  int64\n",
      "first_road_number                                 int64\n",
      "road_type                                         int64\n",
      "speed_limit                                       int64\n",
      "junction_detail                                   int64\n",
      "junction_control                                  int64\n",
      "second_road_class                                 int64\n",
      "second_road_number                                int64\n",
      "pedestrian_crossing_human_control                 int64\n",
      "pedestrian_crossing_physical_facilities           int64\n",
      "light_conditions                                  int64\n",
      "weather_conditions                                int64\n",
      "road_surface_conditions                           int64\n",
      "special_conditions_at_site                        int64\n",
      "carriageway_hazards                               int64\n",
      "urban_or_rural_area                               int64\n",
      "did_police_officer_attend_scene_of_collision      int64\n",
      "trunk_road_flag                                   int64\n",
      "lsoa_of_collision_location                       object\n",
      "dtype: object\n"
     ]
    }
   ],
   "source": [
    "# Display data types of each column\n",
    "print(\"Data types of each column:\\n\", collision_df.dtypes)"
   ]
  },
  {
   "cell_type": "markdown",
   "metadata": {},
   "source": [
    "## Distribution of the data"
   ]
  },
  {
   "cell_type": "code",
   "execution_count": 21,
   "metadata": {},
   "outputs": [
    {
     "name": "stdout",
     "output_type": "stream",
     "text": [
      "Summary statistics for numerical columns:\n",
      "        collision_year  vehicle_reference  casualty_reference  casualty_class  \\\n",
      "count   755702.000000      755702.000000       755702.000000   755702.000000   \n",
      "mean      2020.149317           1.464714            1.367044        1.475731   \n",
      "std          1.632057           2.454423            2.719973        0.724610   \n",
      "min       2018.000000           1.000000            1.000000        1.000000   \n",
      "25%       2019.000000           1.000000            1.000000        1.000000   \n",
      "50%       2020.000000           1.000000            1.000000        1.000000   \n",
      "75%       2022.000000           2.000000            1.000000        2.000000   \n",
      "max       2023.000000         999.000000          999.000000        3.000000   \n",
      "\n",
      "       sex_of_casualty  age_of_casualty  age_band_of_casualty  \\\n",
      "count    755702.000000    755702.000000         755702.000000   \n",
      "mean          1.375774        36.810470              6.312983   \n",
      "std           0.521532        19.517706              2.448476   \n",
      "min          -1.000000        -1.000000             -1.000000   \n",
      "25%           1.000000        22.000000              5.000000   \n",
      "50%           1.000000        34.000000              6.000000   \n",
      "75%           2.000000        50.000000              8.000000   \n",
      "max           9.000000       102.000000             11.000000   \n",
      "\n",
      "       casualty_severity  pedestrian_location  pedestrian_movement  \\\n",
      "count      755702.000000        755702.000000        755702.000000   \n",
      "mean            2.801596             0.752230             0.603660   \n",
      "std             0.427604             2.131747             1.943673   \n",
      "min             1.000000            -1.000000            -1.000000   \n",
      "25%             3.000000             0.000000             0.000000   \n",
      "50%             3.000000             0.000000             0.000000   \n",
      "75%             3.000000             0.000000             0.000000   \n",
      "max             3.000000            10.000000             9.000000   \n",
      "\n",
      "       car_passenger  bus_or_coach_passenger  \\\n",
      "count  755702.000000           755702.000000   \n",
      "mean        0.238235                0.055841   \n",
      "std         0.631027                0.455839   \n",
      "min        -1.000000               -1.000000   \n",
      "25%         0.000000                0.000000   \n",
      "50%         0.000000                0.000000   \n",
      "75%         0.000000                0.000000   \n",
      "max         9.000000                9.000000   \n",
      "\n",
      "       pedestrian_road_maintenance_worker  casualty_type  \\\n",
      "count                       755702.000000  755702.000000   \n",
      "mean                             0.037245       7.662727   \n",
      "std                              0.274354      10.597583   \n",
      "min                             -1.000000      -1.000000   \n",
      "25%                              0.000000       1.000000   \n",
      "50%                              0.000000       9.000000   \n",
      "75%                              0.000000       9.000000   \n",
      "max                              3.000000      99.000000   \n",
      "\n",
      "       casualty_home_area_type  casualty_imd_decile  \n",
      "count            755702.000000        755702.000000  \n",
      "mean                  1.073132             4.354091  \n",
      "std                   0.916161             3.193944  \n",
      "min                  -1.000000            -1.000000  \n",
      "25%                   1.000000             2.000000  \n",
      "50%                   1.000000             4.000000  \n",
      "75%                   1.000000             7.000000  \n",
      "max                   3.000000            10.000000  \n"
     ]
    },
    {
     "data": {
      "image/png": "[encoded data removed]",
      "text/plain": [
       "<Figure size 720x576 with 16 Axes>"
      ]
     },
     "metadata": {
      "needs_background": "light"
     },
     "output_type": "display_data"
    },
    {
     "data": {
      "image/png": "[encoded data removed]",
      "text/plain": [
       "<Figure size 720x576 with 18 Axes>"
      ]
     },
     "metadata": {
      "needs_background": "light"
     },
     "output_type": "display_data"
    }
   ],
   "source": [
    "# Describe numerical features\n",
    "numerical_summary = casualty_df.describe()\n",
    "print(\"Summary statistics for numerical columns:\\n\", numerical_summary)\n",
    "\n",
    "# For more detailed analysis, consider histograms or box plots\n",
    "import matplotlib.pyplot as plt\n",
    "\n",
    "# Histograms for all numerical data\n",
    "casualty_df.hist(figsize=(10, 8))\n",
    "plt.tight_layout()  # Adjust subplots to fit into figure area.\n",
    "plt.show()\n",
    "\n",
    "# Boxplots for all numerical data to check for outliers\n",
    "casualty_df.plot(kind='box', subplots=True, layout=(int(len(casualty_df.columns)/2), 2), figsize=(10, 8))\n",
    "plt.tight_layout()\n",
    "plt.show()\n"
   ]
  },
  {
   "cell_type": "code",
   "execution_count": 22,
   "metadata": {},
   "outputs": [
    {
     "name": "stdout",
     "output_type": "stream",
     "text": [
      "Summary statistics for numerical columns:\n",
      "        collision_year  location_easting_osgr  location_northing_osgr  \\\n",
      "count   587777.000000          587557.000000            5.875570e+05   \n",
      "mean      2020.167133          454447.332659            2.768507e+05   \n",
      "std          1.629448           93806.867163            1.484053e+05   \n",
      "min       2018.000000            1393.000000            1.023500e+04   \n",
      "25%       2019.000000          391157.000000            1.752450e+05   \n",
      "50%       2020.000000          461327.000000            2.153200e+05   \n",
      "75%       2022.000000          529690.000000            3.843840e+05   \n",
      "max       2023.000000          655345.000000            1.209512e+06   \n",
      "\n",
      "           longitude       latitude   police_force  legacy_collision_severity  \\\n",
      "count  587557.000000  587557.000000  587777.000000              587777.000000   \n",
      "mean       -1.219246      52.378960      27.711047                   2.767330   \n",
      "std         1.373023       1.336998      24.502683                   0.455385   \n",
      "min        -7.551760      49.888532       1.000000                   1.000000   \n",
      "25%        -2.132904      51.463205       4.000000                   3.000000   \n",
      "50%        -1.092779      51.820429      22.000000                   3.000000   \n",
      "75%        -0.131666      53.352903      45.000000                   3.000000   \n",
      "max         1.759829      60.763722      99.000000                   3.000000   \n",
      "\n",
      "       number_of_vehicles  number_of_casualties    day_of_week  ...  \\\n",
      "count       587777.000000         587777.000000  587777.000000  ...   \n",
      "mean             1.836831              1.285695       4.125583  ...   \n",
      "std              0.696613              0.722880       1.930306  ...   \n",
      "min              1.000000              1.000000       1.000000  ...   \n",
      "25%              1.000000              1.000000       2.000000  ...   \n",
      "50%              2.000000              1.000000       4.000000  ...   \n",
      "75%              2.000000              1.000000       6.000000  ...   \n",
      "max             24.000000             70.000000       7.000000  ...   \n",
      "\n",
      "       pedestrian_crossing_human_control  \\\n",
      "count                      587777.000000   \n",
      "mean                            0.324729   \n",
      "std                             1.630084   \n",
      "min                            -1.000000   \n",
      "25%                             0.000000   \n",
      "50%                             0.000000   \n",
      "75%                             0.000000   \n",
      "max                             9.000000   \n",
      "\n",
      "       pedestrian_crossing_physical_facilities  light_conditions  \\\n",
      "count                            587777.000000     587777.000000   \n",
      "mean                                  1.147889          2.012602   \n",
      "std                                   2.391811          1.704828   \n",
      "min                                  -1.000000         -1.000000   \n",
      "25%                                   0.000000          1.000000   \n",
      "50%                                   0.000000          1.000000   \n",
      "75%                                   0.000000          4.000000   \n",
      "max                                   9.000000          7.000000   \n",
      "\n",
      "       weather_conditions  road_surface_conditions  \\\n",
      "count       587777.000000            587777.000000   \n",
      "mean             1.649069                 1.363046   \n",
      "std              1.828554                 0.948012   \n",
      "min             -1.000000                -1.000000   \n",
      "25%              1.000000                 1.000000   \n",
      "50%              1.000000                 1.000000   \n",
      "75%              1.000000                 2.000000   \n",
      "max              9.000000                 9.000000   \n",
      "\n",
      "       special_conditions_at_site  carriageway_hazards  urban_or_rural_area  \\\n",
      "count               587777.000000        587777.000000        587777.000000   \n",
      "mean                     0.232073             0.179685             1.128550   \n",
      "std                      1.293877             1.161372             0.784802   \n",
      "min                     -1.000000            -1.000000            -1.000000   \n",
      "25%                      0.000000             0.000000             1.000000   \n",
      "50%                      0.000000             0.000000             1.000000   \n",
      "75%                      0.000000             0.000000             2.000000   \n",
      "max                      9.000000             9.000000             3.000000   \n",
      "\n",
      "       did_police_officer_attend_scene_of_collision  trunk_road_flag  \n",
      "count                                 587777.000000    587777.000000  \n",
      "mean                                       1.412896         1.474447  \n",
      "std                                        0.674530         1.086996  \n",
      "min                                       -1.000000        -1.000000  \n",
      "25%                                        1.000000         2.000000  \n",
      "50%                                        1.000000         2.000000  \n",
      "75%                                        2.000000         2.000000  \n",
      "max                                        3.000000         2.000000  \n",
      "\n",
      "[8 rows x 29 columns]\n"
     ]
    },
    {
     "data": {
      "image/png": "[encoded data removed]",
      "text/plain": [
       "<Figure size 720x576 with 30 Axes>"
      ]
     },
     "metadata": {
      "needs_background": "light"
     },
     "output_type": "display_data"
    },
    {
     "name": "stderr",
     "output_type": "stream",
     "text": [
      "C:\\Users\\Acer\\AppData\\Local\\Temp\\ipykernel_11396\\3261071211.py:15: UserWarning: Tight layout not applied. tight_layout cannot make axes height small enough to accommodate all axes decorations.\n",
      "  plt.tight_layout()\n"
     ]
    },
    {
     "data": {
      "image/png": "[encoded data removed]",
      "text/plain": [
       "<Figure size 720x576 with 36 Axes>"
      ]
     },
     "metadata": {
      "needs_background": "light"
     },
     "output_type": "display_data"
    }
   ],
   "source": [
    "# Describe numerical features\n",
    "numerical_summary = collision_df.describe()\n",
    "print(\"Summary statistics for numerical columns:\\n\", numerical_summary)\n",
    "\n",
    "# For more detailed analysis, consider histograms or box plots\n",
    "import matplotlib.pyplot as plt\n",
    "\n",
    "# Histograms for all numerical data\n",
    "collision_df.hist(figsize=(10, 8))\n",
    "plt.tight_layout()  # Adjust subplots to fit into figure area.\n",
    "plt.show()\n",
    "\n",
    "# Boxplots for all numerical data to check for outliers\n",
    "collision_df.plot(kind='box', subplots=True, layout=(int(len(collision_df.columns)/2), 2), figsize=(10, 8))\n",
    "plt.tight_layout()\n",
    "plt.show()\n"
   ]
  },
  {
   "cell_type": "markdown",
   "metadata": {},
   "source": [
    "# Diving Deep into each part of data"
   ]
  },
  {
   "cell_type": "markdown",
   "metadata": {},
   "source": [
    "## Data Quality Issues and correction on casualty data"
   ]
  },
  {
   "cell_type": "code",
   "execution_count": 25,
   "metadata": {},
   "outputs": [
    {
     "data": {
      "text/plain": [
       "Index(['collision_index', 'collision_year', 'collision_reference',\n",
       "       'vehicle_reference', 'casualty_reference', 'casualty_class',\n",
       "       'sex_of_casualty', 'age_of_casualty', 'age_band_of_casualty',\n",
       "       'casualty_severity', 'pedestrian_location', 'pedestrian_movement',\n",
       "       'car_passenger', 'bus_or_coach_passenger',\n",
       "       'pedestrian_road_maintenance_worker', 'casualty_type',\n",
       "       'casualty_home_area_type', 'casualty_imd_decile', 'lsoa_of_casualty'],\n",
       "      dtype='object')"
      ]
     },
     "execution_count": 25,
     "metadata": {},
     "output_type": "execute_result"
    }
   ],
   "source": [
    "casualty_df.columns"
   ]
  },
  {
   "cell_type": "code",
   "execution_count": 26,
   "metadata": {},
   "outputs": [],
   "source": [
    "casualty_df = casualty_df[['collision_index','casualty_reference','age_band_of_casualty','casualty_class',\n",
    "                           'sex_of_casualty','age_of_casualty','casualty_severity']]"
   ]
  },
  {
   "cell_type": "code",
   "execution_count": 27,
   "metadata": {},
   "outputs": [
    {
     "data": {
      "text/plain": [
       "collision_index         0\n",
       "casualty_reference      0\n",
       "age_band_of_casualty    0\n",
       "casualty_class          0\n",
       "sex_of_casualty         0\n",
       "age_of_casualty         0\n",
       "casualty_severity       0\n",
       "dtype: int64"
      ]
     },
     "execution_count": 27,
     "metadata": {},
     "output_type": "execute_result"
    }
   ],
   "source": [
    "casualty_df.isna().sum()"
   ]
  },
  {
   "cell_type": "code",
   "execution_count": 28,
   "metadata": {},
   "outputs": [
    {
     "data": {
      "text/plain": [
       " 1    459162\n",
       " 2    292201\n",
       "-1      4294\n",
       " 9        45\n",
       "Name: sex_of_casualty, dtype: int64"
      ]
     },
     "execution_count": 28,
     "metadata": {},
     "output_type": "execute_result"
    }
   ],
   "source": [
    "casualty_df.sex_of_casualty.value_counts()"
   ]
  },
  {
   "cell_type": "code",
   "execution_count": 29,
   "metadata": {},
   "outputs": [
    {
     "name": "stderr",
     "output_type": "stream",
     "text": [
      "C:\\Users\\Acer\\AppData\\Local\\Temp\\ipykernel_11396\\3240644977.py:1: SettingWithCopyWarning: \n",
      "A value is trying to be set on a copy of a slice from a DataFrame.\n",
      "Try using .loc[row_indexer,col_indexer] = value instead\n",
      "\n",
      "See the caveats in the documentation: https://pandas.pydata.org/pandas-docs/stable/user_guide/indexing.html#returning-a-view-versus-a-copy\n",
      "  casualty_df.loc[:,'sex_of_casualty'] = casualty_df['sex_of_casualty'].replace(-1,3).replace(9,3)\n"
     ]
    }
   ],
   "source": [
    "casualty_df.loc[:,'sex_of_casualty'] = casualty_df['sex_of_casualty'].replace(-1,3).replace(9,3)"
   ]
  },
  {
   "cell_type": "code",
   "execution_count": 30,
   "metadata": {},
   "outputs": [
    {
     "data": {
      "text/plain": [
       "1    500345\n",
       "2    151203\n",
       "3    104154\n",
       "Name: casualty_class, dtype: int64"
      ]
     },
     "execution_count": 30,
     "metadata": {},
     "output_type": "execute_result"
    }
   ],
   "source": [
    "casualty_df.casualty_class.value_counts()"
   ]
  },
  {
   "cell_type": "code",
   "execution_count": 31,
   "metadata": {},
   "outputs": [
    {
     "data": {
      "text/plain": [
       "3    614763\n",
       "2    131944\n",
       "1      8995\n",
       "Name: casualty_severity, dtype: int64"
      ]
     },
     "execution_count": 31,
     "metadata": {},
     "output_type": "execute_result"
    }
   ],
   "source": [
    "casualty_df.casualty_severity.value_counts()"
   ]
  },
  {
   "cell_type": "code",
   "execution_count": 32,
   "metadata": {},
   "outputs": [
    {
     "data": {
      "text/plain": [
       " 6     159572\n",
       " 7     115006\n",
       " 8     101265\n",
       " 5      85169\n",
       " 4      76281\n",
       " 9      68936\n",
       " 10     37636\n",
       " 3      33338\n",
       " 11     30448\n",
       " 2      19244\n",
       "-1      15925\n",
       " 1      12882\n",
       "Name: age_band_of_casualty, dtype: int64"
      ]
     },
     "execution_count": 32,
     "metadata": {},
     "output_type": "execute_result"
    }
   ],
   "source": [
    "casualty_df.age_band_of_casualty.value_counts()"
   ]
  },
  {
   "cell_type": "code",
   "execution_count": 33,
   "metadata": {},
   "outputs": [
    {
     "name": "stderr",
     "output_type": "stream",
     "text": [
      "C:\\Users\\Acer\\AppData\\Local\\Temp\\ipykernel_11396\\2146621630.py:1: SettingWithCopyWarning: \n",
      "A value is trying to be set on a copy of a slice from a DataFrame.\n",
      "Try using .loc[row_indexer,col_indexer] = value instead\n",
      "\n",
      "See the caveats in the documentation: https://pandas.pydata.org/pandas-docs/stable/user_guide/indexing.html#returning-a-view-versus-a-copy\n",
      "  casualty_df.loc[:,'age_band_of_casualty'] = casualty_df['age_band_of_casualty'].replace(-1,12)\n"
     ]
    },
    {
     "data": {
      "text/plain": [
       "'\\n0-5 -> 1\\n5-10->2\\n11-15->3\\n16-20->4\\n21-25->5\\n26-35->6\\n36-45->7\\n46-55->8\\n56-65->9\\n66-75->10\\n76+->11\\nunknown->12\\n'"
      ]
     },
     "execution_count": 33,
     "metadata": {},
     "output_type": "execute_result"
    }
   ],
   "source": [
    "casualty_df.loc[:,'age_band_of_casualty'] = casualty_df['age_band_of_casualty'].replace(-1,12)\n",
    "\n",
    "\"\"\"\n",
    "0-5 -> 1\n",
    "5-10->2\n",
    "11-15->3\n",
    "16-20->4\n",
    "21-25->5\n",
    "26-35->6\n",
    "36-45->7\n",
    "46-55->8\n",
    "56-65->9\n",
    "66-75->10\n",
    "76+->11\n",
    "unknown->12\n",
    "\"\"\""
   ]
  },
  {
   "cell_type": "code",
   "execution_count": 34,
   "metadata": {},
   "outputs": [
    {
     "data": {
      "text/html": [
       "<div>\n",
       "<style scoped>\n",
       "    .dataframe tbody tr th:only-of-type {\n",
       "        vertical-align: middle;\n",
       "    }\n",
       "\n",
       "    .dataframe tbody tr th {\n",
       "        vertical-align: top;\n",
       "    }\n",
       "\n",
       "    .dataframe thead th {\n",
       "        text-align: right;\n",
       "    }\n",
       "</style>\n",
       "<table border=\"1\" class=\"dataframe\">\n",
       "  <thead>\n",
       "    <tr style=\"text-align: right;\">\n",
       "      <th></th>\n",
       "      <th>collision_index</th>\n",
       "      <th>casualty_reference</th>\n",
       "      <th>age_band_of_casualty</th>\n",
       "      <th>casualty_class</th>\n",
       "      <th>sex_of_casualty</th>\n",
       "      <th>age_of_casualty</th>\n",
       "      <th>casualty_severity</th>\n",
       "    </tr>\n",
       "  </thead>\n",
       "  <tbody>\n",
       "    <tr>\n",
       "      <th>0</th>\n",
       "      <td>2018010080971</td>\n",
       "      <td>1</td>\n",
       "      <td>8</td>\n",
       "      <td>2</td>\n",
       "      <td>2</td>\n",
       "      <td>50</td>\n",
       "      <td>3</td>\n",
       "    </tr>\n",
       "    <tr>\n",
       "      <th>1</th>\n",
       "      <td>2018010080971</td>\n",
       "      <td>2</td>\n",
       "      <td>8</td>\n",
       "      <td>1</td>\n",
       "      <td>1</td>\n",
       "      <td>48</td>\n",
       "      <td>3</td>\n",
       "    </tr>\n",
       "    <tr>\n",
       "      <th>2</th>\n",
       "      <td>2018010080973</td>\n",
       "      <td>1</td>\n",
       "      <td>6</td>\n",
       "      <td>3</td>\n",
       "      <td>1</td>\n",
       "      <td>29</td>\n",
       "      <td>3</td>\n",
       "    </tr>\n",
       "    <tr>\n",
       "      <th>3</th>\n",
       "      <td>2018010080974</td>\n",
       "      <td>1</td>\n",
       "      <td>7</td>\n",
       "      <td>1</td>\n",
       "      <td>1</td>\n",
       "      <td>40</td>\n",
       "      <td>3</td>\n",
       "    </tr>\n",
       "    <tr>\n",
       "      <th>4</th>\n",
       "      <td>2018010080981</td>\n",
       "      <td>1</td>\n",
       "      <td>6</td>\n",
       "      <td>1</td>\n",
       "      <td>1</td>\n",
       "      <td>27</td>\n",
       "      <td>2</td>\n",
       "    </tr>\n",
       "  </tbody>\n",
       "</table>\n",
       "</div>"
      ],
      "text/plain": [
       "  collision_index  casualty_reference  age_band_of_casualty  casualty_class  \\\n",
       "0   2018010080971                   1                     8               2   \n",
       "1   2018010080971                   2                     8               1   \n",
       "2   2018010080973                   1                     6               3   \n",
       "3   2018010080974                   1                     7               1   \n",
       "4   2018010080981                   1                     6               1   \n",
       "\n",
       "   sex_of_casualty  age_of_casualty  casualty_severity  \n",
       "0                2               50                  3  \n",
       "1                1               48                  3  \n",
       "2                1               29                  3  \n",
       "3                1               40                  3  \n",
       "4                1               27                  2  "
      ]
     },
     "execution_count": 34,
     "metadata": {},
     "output_type": "execute_result"
    }
   ],
   "source": [
    "casualty_df.head()"
   ]
  },
  {
   "cell_type": "code",
   "execution_count": 35,
   "metadata": {},
   "outputs": [],
   "source": [
    "casualty_df.to_csv('casualty_18-23.csv',index=False)"
   ]
  },
  {
   "cell_type": "markdown",
   "metadata": {},
   "source": [
    "## Data Quality Issues and correction on collision data"
   ]
  },
  {
   "cell_type": "code",
   "execution_count": 36,
   "metadata": {},
   "outputs": [
    {
     "data": {
      "text/plain": [
       "Index(['collision_index', 'collision_year', 'collision_reference',\n",
       "       'location_easting_osgr', 'location_northing_osgr', 'longitude',\n",
       "       'latitude', 'police_force', 'legacy_collision_severity',\n",
       "       'number_of_vehicles', 'number_of_casualties', 'date', 'day_of_week',\n",
       "       'time', 'local_authority_district', 'local_authority_ons_district',\n",
       "       'local_authority_highway', 'first_road_class', 'first_road_number',\n",
       "       'road_type', 'speed_limit', 'junction_detail', 'junction_control',\n",
       "       'second_road_class', 'second_road_number',\n",
       "       'pedestrian_crossing_human_control',\n",
       "       'pedestrian_crossing_physical_facilities', 'light_conditions',\n",
       "       'weather_conditions', 'road_surface_conditions',\n",
       "       'special_conditions_at_site', 'carriageway_hazards',\n",
       "       'urban_or_rural_area', 'did_police_officer_attend_scene_of_collision',\n",
       "       'trunk_road_flag', 'lsoa_of_collision_location'],\n",
       "      dtype='object')"
      ]
     },
     "execution_count": 36,
     "metadata": {},
     "output_type": "execute_result"
    }
   ],
   "source": [
    "collision_df.columns"
   ]
  },
  {
   "cell_type": "code",
   "execution_count": 37,
   "metadata": {},
   "outputs": [],
   "source": [
    "collision_df = collision_df[['collision_index','collision_year','legacy_collision_severity','number_of_casualties',\n",
    "                             'number_of_vehicles','road_surface_conditions','date','time','day_of_week','light_conditions',\n",
    "                             'weather_conditions','local_authority_ons_district']]"
   ]
  },
  {
   "cell_type": "code",
   "execution_count": 38,
   "metadata": {},
   "outputs": [
    {
     "data": {
      "text/plain": [
       "collision_index                 0\n",
       "collision_year                  0\n",
       "legacy_collision_severity       0\n",
       "number_of_casualties            0\n",
       "number_of_vehicles              0\n",
       "road_surface_conditions         0\n",
       "date                            0\n",
       "time                            0\n",
       "day_of_week                     0\n",
       "light_conditions                0\n",
       "weather_conditions              0\n",
       "local_authority_ons_district    0\n",
       "dtype: int64"
      ]
     },
     "execution_count": 38,
     "metadata": {},
     "output_type": "execute_result"
    }
   ],
   "source": [
    "collision_df.isna().sum()"
   ]
  },
  {
   "cell_type": "code",
   "execution_count": 39,
   "metadata": {},
   "outputs": [
    {
     "data": {
      "text/plain": [
       " 1    422328\n",
       " 4    119695\n",
       " 6     29849\n",
       " 7     11662\n",
       " 5      4228\n",
       "-1        15\n",
       "Name: light_conditions, dtype: int64"
      ]
     },
     "execution_count": 39,
     "metadata": {},
     "output_type": "execute_result"
    }
   ],
   "source": [
    "collision_df.light_conditions.value_counts()"
   ]
  },
  {
   "cell_type": "code",
   "execution_count": 40,
   "metadata": {},
   "outputs": [
    {
     "name": "stderr",
     "output_type": "stream",
     "text": [
      "C:\\Users\\Acer\\AppData\\Local\\Temp\\ipykernel_11396\\173792883.py:1: SettingWithCopyWarning: \n",
      "A value is trying to be set on a copy of a slice from a DataFrame.\n",
      "Try using .loc[row_indexer,col_indexer] = value instead\n",
      "\n",
      "See the caveats in the documentation: https://pandas.pydata.org/pandas-docs/stable/user_guide/indexing.html#returning-a-view-versus-a-copy\n",
      "  collision_df.loc[:,'light_conditions'] = collision_df['light_conditions'].replace(-1,8)\n"
     ]
    }
   ],
   "source": [
    "collision_df.loc[:,'light_conditions'] = collision_df['light_conditions'].replace(-1,8)"
   ]
  },
  {
   "cell_type": "code",
   "execution_count": 41,
   "metadata": {},
   "outputs": [
    {
     "data": {
      "text/plain": [
       "3    459495\n",
       "2    119806\n",
       "1      8476\n",
       "Name: legacy_collision_severity, dtype: int64"
      ]
     },
     "execution_count": 41,
     "metadata": {},
     "output_type": "execute_result"
    }
   ],
   "source": [
    "collision_df.legacy_collision_severity.value_counts()"
   ]
  },
  {
   "cell_type": "code",
   "execution_count": 42,
   "metadata": {},
   "outputs": [
    {
     "data": {
      "text/plain": [
       " 1    426131\n",
       " 2    143044\n",
       " 4      7216\n",
       " 9      5708\n",
       "-1      2485\n",
       " 3      2384\n",
       " 5       809\n",
       "Name: road_surface_conditions, dtype: int64"
      ]
     },
     "execution_count": 42,
     "metadata": {},
     "output_type": "execute_result"
    }
   ],
   "source": [
    "collision_df.road_surface_conditions.value_counts()"
   ]
  },
  {
   "cell_type": "code",
   "execution_count": 43,
   "metadata": {},
   "outputs": [
    {
     "name": "stderr",
     "output_type": "stream",
     "text": [
      "C:\\Users\\Acer\\AppData\\Local\\Temp\\ipykernel_11396\\2190122231.py:1: SettingWithCopyWarning: \n",
      "A value is trying to be set on a copy of a slice from a DataFrame.\n",
      "Try using .loc[row_indexer,col_indexer] = value instead\n",
      "\n",
      "See the caveats in the documentation: https://pandas.pydata.org/pandas-docs/stable/user_guide/indexing.html#returning-a-view-versus-a-copy\n",
      "  collision_df.loc[:,'road_surface_conditions'] = collision_df['road_surface_conditions'].replace(-1,9)\n"
     ]
    }
   ],
   "source": [
    "collision_df.loc[:,'road_surface_conditions'] = collision_df['road_surface_conditions'].replace(-1,9)"
   ]
  },
  {
   "cell_type": "code",
   "execution_count": 44,
   "metadata": {},
   "outputs": [
    {
     "data": {
      "text/plain": [
       " 1    471178\n",
       " 2     64808\n",
       " 9     16727\n",
       " 8     16271\n",
       " 5      6756\n",
       " 4      6002\n",
       " 3      2822\n",
       " 7      2479\n",
       " 6       701\n",
       "-1        33\n",
       "Name: weather_conditions, dtype: int64"
      ]
     },
     "execution_count": 44,
     "metadata": {},
     "output_type": "execute_result"
    }
   ],
   "source": [
    "collision_df.weather_conditions.value_counts()"
   ]
  },
  {
   "cell_type": "code",
   "execution_count": 45,
   "metadata": {},
   "outputs": [
    {
     "name": "stderr",
     "output_type": "stream",
     "text": [
      "C:\\Users\\Acer\\AppData\\Local\\Temp\\ipykernel_11396\\1517603379.py:1: SettingWithCopyWarning: \n",
      "A value is trying to be set on a copy of a slice from a DataFrame.\n",
      "Try using .loc[row_indexer,col_indexer] = value instead\n",
      "\n",
      "See the caveats in the documentation: https://pandas.pydata.org/pandas-docs/stable/user_guide/indexing.html#returning-a-view-versus-a-copy\n",
      "  collision_df.loc[:,'weather_conditions'] = collision_df['weather_conditions'].replace(-1,9)\n"
     ]
    }
   ],
   "source": [
    "collision_df.loc[:,'weather_conditions'] = collision_df['weather_conditions'].replace(-1,9)"
   ]
  },
  {
   "cell_type": "code",
   "execution_count": 46,
   "metadata": {},
   "outputs": [
    {
     "data": {
      "text/plain": [
       "6    96945\n",
       "5    89709\n",
       "4    87858\n",
       "3    85936\n",
       "2    82003\n",
       "7    79356\n",
       "1    65970\n",
       "Name: day_of_week, dtype: int64"
      ]
     },
     "execution_count": 46,
     "metadata": {},
     "output_type": "execute_result"
    }
   ],
   "source": [
    "collision_df.day_of_week.value_counts()"
   ]
  },
  {
   "cell_type": "code",
   "execution_count": 47,
   "metadata": {},
   "outputs": [
    {
     "data": {
      "text/plain": [
       "E08000025    12571\n",
       "E08000035     7710\n",
       "E09000033     7076\n",
       "E09000022     6419\n",
       "E09000030     5810\n",
       "             ...  \n",
       "E07000053       87\n",
       "E07000048       75\n",
       "S12000023       73\n",
       "S12000027       66\n",
       "E06000053        7\n",
       "Name: local_authority_ons_district, Length: 390, dtype: int64"
      ]
     },
     "execution_count": 47,
     "metadata": {},
     "output_type": "execute_result"
    }
   ],
   "source": [
    "collision_df.local_authority_ons_district.value_counts()"
   ]
  },
  {
   "cell_type": "code",
   "execution_count": 48,
   "metadata": {},
   "outputs": [
    {
     "data": {
      "text/html": [
       "<div>\n",
       "<style scoped>\n",
       "    .dataframe tbody tr th:only-of-type {\n",
       "        vertical-align: middle;\n",
       "    }\n",
       "\n",
       "    .dataframe tbody tr th {\n",
       "        vertical-align: top;\n",
       "    }\n",
       "\n",
       "    .dataframe thead th {\n",
       "        text-align: right;\n",
       "    }\n",
       "</style>\n",
       "<table border=\"1\" class=\"dataframe\">\n",
       "  <thead>\n",
       "    <tr style=\"text-align: right;\">\n",
       "      <th></th>\n",
       "      <th>collision_index</th>\n",
       "      <th>collision_year</th>\n",
       "      <th>legacy_collision_severity</th>\n",
       "      <th>number_of_casualties</th>\n",
       "      <th>number_of_vehicles</th>\n",
       "      <th>road_surface_conditions</th>\n",
       "      <th>date</th>\n",
       "      <th>time</th>\n",
       "      <th>day_of_week</th>\n",
       "      <th>light_conditions</th>\n",
       "      <th>weather_conditions</th>\n",
       "      <th>local_authority_ons_district</th>\n",
       "    </tr>\n",
       "  </thead>\n",
       "  <tbody>\n",
       "    <tr>\n",
       "      <th>0</th>\n",
       "      <td>2018010080971</td>\n",
       "      <td>2018</td>\n",
       "      <td>3</td>\n",
       "      <td>2</td>\n",
       "      <td>2</td>\n",
       "      <td>1</td>\n",
       "      <td>01/01/2018</td>\n",
       "      <td>01:30</td>\n",
       "      <td>2</td>\n",
       "      <td>4</td>\n",
       "      <td>1</td>\n",
       "      <td>E09000007</td>\n",
       "    </tr>\n",
       "    <tr>\n",
       "      <th>1</th>\n",
       "      <td>2018010080973</td>\n",
       "      <td>2018</td>\n",
       "      <td>3</td>\n",
       "      <td>1</td>\n",
       "      <td>1</td>\n",
       "      <td>1</td>\n",
       "      <td>01/01/2018</td>\n",
       "      <td>00:50</td>\n",
       "      <td>2</td>\n",
       "      <td>4</td>\n",
       "      <td>1</td>\n",
       "      <td>E09000025</td>\n",
       "    </tr>\n",
       "    <tr>\n",
       "      <th>2</th>\n",
       "      <td>2018010080974</td>\n",
       "      <td>2018</td>\n",
       "      <td>3</td>\n",
       "      <td>1</td>\n",
       "      <td>2</td>\n",
       "      <td>1</td>\n",
       "      <td>01/01/2018</td>\n",
       "      <td>00:45</td>\n",
       "      <td>2</td>\n",
       "      <td>4</td>\n",
       "      <td>1</td>\n",
       "      <td>E09000019</td>\n",
       "    </tr>\n",
       "    <tr>\n",
       "      <th>3</th>\n",
       "      <td>2018010080981</td>\n",
       "      <td>2018</td>\n",
       "      <td>2</td>\n",
       "      <td>1</td>\n",
       "      <td>2</td>\n",
       "      <td>2</td>\n",
       "      <td>01/01/2018</td>\n",
       "      <td>03:00</td>\n",
       "      <td>2</td>\n",
       "      <td>4</td>\n",
       "      <td>2</td>\n",
       "      <td>E09000025</td>\n",
       "    </tr>\n",
       "    <tr>\n",
       "      <th>4</th>\n",
       "      <td>2018010080982</td>\n",
       "      <td>2018</td>\n",
       "      <td>2</td>\n",
       "      <td>2</td>\n",
       "      <td>2</td>\n",
       "      <td>2</td>\n",
       "      <td>01/01/2018</td>\n",
       "      <td>02:20</td>\n",
       "      <td>2</td>\n",
       "      <td>4</td>\n",
       "      <td>1</td>\n",
       "      <td>E09000011</td>\n",
       "    </tr>\n",
       "  </tbody>\n",
       "</table>\n",
       "</div>"
      ],
      "text/plain": [
       "  collision_index  collision_year  legacy_collision_severity  \\\n",
       "0   2018010080971            2018                          3   \n",
       "1   2018010080973            2018                          3   \n",
       "2   2018010080974            2018                          3   \n",
       "3   2018010080981            2018                          2   \n",
       "4   2018010080982            2018                          2   \n",
       "\n",
       "   number_of_casualties  number_of_vehicles  road_surface_conditions  \\\n",
       "0                     2                   2                        1   \n",
       "1                     1                   1                        1   \n",
       "2                     1                   2                        1   \n",
       "3                     1                   2                        2   \n",
       "4                     2                   2                        2   \n",
       "\n",
       "         date   time  day_of_week  light_conditions  weather_conditions  \\\n",
       "0  01/01/2018  01:30            2                 4                   1   \n",
       "1  01/01/2018  00:50            2                 4                   1   \n",
       "2  01/01/2018  00:45            2                 4                   1   \n",
       "3  01/01/2018  03:00            2                 4                   2   \n",
       "4  01/01/2018  02:20            2                 4                   1   \n",
       "\n",
       "  local_authority_ons_district  \n",
       "0                    E09000007  \n",
       "1                    E09000025  \n",
       "2                    E09000019  \n",
       "3                    E09000025  \n",
       "4                    E09000011  "
      ]
     },
     "execution_count": 48,
     "metadata": {},
     "output_type": "execute_result"
    }
   ],
   "source": [
    "collision_df.head()"
   ]
  },
  {
   "cell_type": "markdown",
   "metadata": {},
   "source": [
    "## Merging"
   ]
  },
  {
   "cell_type": "code",
   "execution_count": 49,
   "metadata": {},
   "outputs": [],
   "source": [
    "df = pd.merge(collision_df,casualty_df,how='inner')"
   ]
  },
  {
   "cell_type": "code",
   "execution_count": 50,
   "metadata": {},
   "outputs": [],
   "source": [
    "borough = ['E09000001','E09000002', 'E09000003', 'E09000004', 'E09000005', 'E09000006', 'E09000007', 'E09000008', \n",
    "           'E09000009', 'E09000010', 'E09000011', 'E09000012','E09000013', 'E09000014', 'E09000015', 'E09000016', \n",
    "           'E09000017', 'E09000018', 'E09000019', 'E09000020', 'E09000021', 'E09000022', 'E09000023', 'E09000024', \n",
    "           'E09000025', 'E09000026', 'E09000027', 'E09000028', 'E09000029', 'E09000030', 'E09000031', 'E09000032', 'E09000033']\n",
    "df = df[df['local_authority_ons_district'].isin(borough)]"
   ]
  },
  {
   "cell_type": "code",
   "execution_count": 51,
   "metadata": {},
   "outputs": [
    {
     "data": {
      "text/plain": [
       "collision_index                    0\n",
       "collision_year                     0\n",
       "legacy_collision_severity          0\n",
       "number_of_casualties               0\n",
       "number_of_vehicles                 0\n",
       "road_surface_conditions            0\n",
       "date                               0\n",
       "time                               0\n",
       "day_of_week                        0\n",
       "light_conditions                   0\n",
       "weather_conditions                 0\n",
       "local_authority_ons_district       0\n",
       "casualty_reference                 0\n",
       "age_band_of_casualty               0\n",
       "casualty_class                     0\n",
       "sex_of_casualty                    0\n",
       "age_of_casualty                 6804\n",
       "casualty_severity                  0\n",
       "dtype: int64"
      ]
     },
     "execution_count": 51,
     "metadata": {},
     "output_type": "execute_result"
    }
   ],
   "source": [
    "df.replace(-1,pd.NA).isna().sum()"
   ]
  },
  {
   "cell_type": "code",
   "execution_count": 52,
   "metadata": {},
   "outputs": [],
   "source": [
    "# df.to_csv('2018-2023.csv',index=False)"
   ]
  },
  {
   "cell_type": "code",
   "execution_count": 53,
   "metadata": {},
   "outputs": [
    {
     "data": {
      "text/html": [
       "<div>\n",
       "<style scoped>\n",
       "    .dataframe tbody tr th:only-of-type {\n",
       "        vertical-align: middle;\n",
       "    }\n",
       "\n",
       "    .dataframe tbody tr th {\n",
       "        vertical-align: top;\n",
       "    }\n",
       "\n",
       "    .dataframe thead th {\n",
       "        text-align: right;\n",
       "    }\n",
       "</style>\n",
       "<table border=\"1\" class=\"dataframe\">\n",
       "  <thead>\n",
       "    <tr style=\"text-align: right;\">\n",
       "      <th></th>\n",
       "      <th>collision_index</th>\n",
       "      <th>collision_year</th>\n",
       "      <th>legacy_collision_severity</th>\n",
       "      <th>number_of_casualties</th>\n",
       "      <th>number_of_vehicles</th>\n",
       "      <th>road_surface_conditions</th>\n",
       "      <th>date</th>\n",
       "      <th>time</th>\n",
       "      <th>day_of_week</th>\n",
       "      <th>light_conditions</th>\n",
       "      <th>weather_conditions</th>\n",
       "      <th>local_authority_ons_district</th>\n",
       "      <th>casualty_reference</th>\n",
       "      <th>age_band_of_casualty</th>\n",
       "      <th>casualty_class</th>\n",
       "      <th>sex_of_casualty</th>\n",
       "      <th>age_of_casualty</th>\n",
       "      <th>casualty_severity</th>\n",
       "    </tr>\n",
       "  </thead>\n",
       "  <tbody>\n",
       "    <tr>\n",
       "      <th>0</th>\n",
       "      <td>2018010080971</td>\n",
       "      <td>2018</td>\n",
       "      <td>3</td>\n",
       "      <td>2</td>\n",
       "      <td>2</td>\n",
       "      <td>1</td>\n",
       "      <td>01/01/2018</td>\n",
       "      <td>01:30</td>\n",
       "      <td>2</td>\n",
       "      <td>4</td>\n",
       "      <td>1</td>\n",
       "      <td>E09000007</td>\n",
       "      <td>1</td>\n",
       "      <td>8</td>\n",
       "      <td>2</td>\n",
       "      <td>2</td>\n",
       "      <td>50</td>\n",
       "      <td>3</td>\n",
       "    </tr>\n",
       "    <tr>\n",
       "      <th>1</th>\n",
       "      <td>2018010080971</td>\n",
       "      <td>2018</td>\n",
       "      <td>3</td>\n",
       "      <td>2</td>\n",
       "      <td>2</td>\n",
       "      <td>1</td>\n",
       "      <td>01/01/2018</td>\n",
       "      <td>01:30</td>\n",
       "      <td>2</td>\n",
       "      <td>4</td>\n",
       "      <td>1</td>\n",
       "      <td>E09000007</td>\n",
       "      <td>2</td>\n",
       "      <td>8</td>\n",
       "      <td>1</td>\n",
       "      <td>1</td>\n",
       "      <td>48</td>\n",
       "      <td>3</td>\n",
       "    </tr>\n",
       "    <tr>\n",
       "      <th>2</th>\n",
       "      <td>2018010080973</td>\n",
       "      <td>2018</td>\n",
       "      <td>3</td>\n",
       "      <td>1</td>\n",
       "      <td>1</td>\n",
       "      <td>1</td>\n",
       "      <td>01/01/2018</td>\n",
       "      <td>00:50</td>\n",
       "      <td>2</td>\n",
       "      <td>4</td>\n",
       "      <td>1</td>\n",
       "      <td>E09000025</td>\n",
       "      <td>1</td>\n",
       "      <td>6</td>\n",
       "      <td>3</td>\n",
       "      <td>1</td>\n",
       "      <td>29</td>\n",
       "      <td>3</td>\n",
       "    </tr>\n",
       "    <tr>\n",
       "      <th>3</th>\n",
       "      <td>2018010080974</td>\n",
       "      <td>2018</td>\n",
       "      <td>3</td>\n",
       "      <td>1</td>\n",
       "      <td>2</td>\n",
       "      <td>1</td>\n",
       "      <td>01/01/2018</td>\n",
       "      <td>00:45</td>\n",
       "      <td>2</td>\n",
       "      <td>4</td>\n",
       "      <td>1</td>\n",
       "      <td>E09000019</td>\n",
       "      <td>1</td>\n",
       "      <td>7</td>\n",
       "      <td>1</td>\n",
       "      <td>1</td>\n",
       "      <td>40</td>\n",
       "      <td>3</td>\n",
       "    </tr>\n",
       "    <tr>\n",
       "      <th>4</th>\n",
       "      <td>2018010080981</td>\n",
       "      <td>2018</td>\n",
       "      <td>2</td>\n",
       "      <td>1</td>\n",
       "      <td>2</td>\n",
       "      <td>2</td>\n",
       "      <td>01/01/2018</td>\n",
       "      <td>03:00</td>\n",
       "      <td>2</td>\n",
       "      <td>4</td>\n",
       "      <td>2</td>\n",
       "      <td>E09000025</td>\n",
       "      <td>1</td>\n",
       "      <td>6</td>\n",
       "      <td>1</td>\n",
       "      <td>1</td>\n",
       "      <td>27</td>\n",
       "      <td>2</td>\n",
       "    </tr>\n",
       "    <tr>\n",
       "      <th>...</th>\n",
       "      <td>...</td>\n",
       "      <td>...</td>\n",
       "      <td>...</td>\n",
       "      <td>...</td>\n",
       "      <td>...</td>\n",
       "      <td>...</td>\n",
       "      <td>...</td>\n",
       "      <td>...</td>\n",
       "      <td>...</td>\n",
       "      <td>...</td>\n",
       "      <td>...</td>\n",
       "      <td>...</td>\n",
       "      <td>...</td>\n",
       "      <td>...</td>\n",
       "      <td>...</td>\n",
       "      <td>...</td>\n",
       "      <td>...</td>\n",
       "      <td>...</td>\n",
       "    </tr>\n",
       "    <tr>\n",
       "      <th>746240</th>\n",
       "      <td>2023481369636</td>\n",
       "      <td>2023</td>\n",
       "      <td>3</td>\n",
       "      <td>1</td>\n",
       "      <td>2</td>\n",
       "      <td>2</td>\n",
       "      <td>26/06/2023</td>\n",
       "      <td>12:56</td>\n",
       "      <td>2</td>\n",
       "      <td>1</td>\n",
       "      <td>2</td>\n",
       "      <td>E09000001</td>\n",
       "      <td>1</td>\n",
       "      <td>6</td>\n",
       "      <td>1</td>\n",
       "      <td>1</td>\n",
       "      <td>35</td>\n",
       "      <td>3</td>\n",
       "    </tr>\n",
       "    <tr>\n",
       "      <th>746241</th>\n",
       "      <td>2023481369643</td>\n",
       "      <td>2023</td>\n",
       "      <td>3</td>\n",
       "      <td>1</td>\n",
       "      <td>2</td>\n",
       "      <td>1</td>\n",
       "      <td>25/06/2023</td>\n",
       "      <td>18:50</td>\n",
       "      <td>1</td>\n",
       "      <td>1</td>\n",
       "      <td>1</td>\n",
       "      <td>E09000001</td>\n",
       "      <td>1</td>\n",
       "      <td>6</td>\n",
       "      <td>1</td>\n",
       "      <td>1</td>\n",
       "      <td>31</td>\n",
       "      <td>3</td>\n",
       "    </tr>\n",
       "    <tr>\n",
       "      <th>746242</th>\n",
       "      <td>2023481369648</td>\n",
       "      <td>2023</td>\n",
       "      <td>3</td>\n",
       "      <td>1</td>\n",
       "      <td>2</td>\n",
       "      <td>1</td>\n",
       "      <td>28/06/2023</td>\n",
       "      <td>07:10</td>\n",
       "      <td>4</td>\n",
       "      <td>1</td>\n",
       "      <td>1</td>\n",
       "      <td>E09000001</td>\n",
       "      <td>1</td>\n",
       "      <td>5</td>\n",
       "      <td>1</td>\n",
       "      <td>1</td>\n",
       "      <td>24</td>\n",
       "      <td>3</td>\n",
       "    </tr>\n",
       "    <tr>\n",
       "      <th>746243</th>\n",
       "      <td>2023481369657</td>\n",
       "      <td>2023</td>\n",
       "      <td>3</td>\n",
       "      <td>1</td>\n",
       "      <td>2</td>\n",
       "      <td>1</td>\n",
       "      <td>29/06/2023</td>\n",
       "      <td>08:50</td>\n",
       "      <td>5</td>\n",
       "      <td>1</td>\n",
       "      <td>1</td>\n",
       "      <td>E09000001</td>\n",
       "      <td>1</td>\n",
       "      <td>7</td>\n",
       "      <td>1</td>\n",
       "      <td>2</td>\n",
       "      <td>39</td>\n",
       "      <td>3</td>\n",
       "    </tr>\n",
       "    <tr>\n",
       "      <th>746244</th>\n",
       "      <td>2023481369671</td>\n",
       "      <td>2023</td>\n",
       "      <td>2</td>\n",
       "      <td>1</td>\n",
       "      <td>1</td>\n",
       "      <td>1</td>\n",
       "      <td>23/06/2023</td>\n",
       "      <td>08:15</td>\n",
       "      <td>6</td>\n",
       "      <td>1</td>\n",
       "      <td>1</td>\n",
       "      <td>E09000001</td>\n",
       "      <td>1</td>\n",
       "      <td>9</td>\n",
       "      <td>3</td>\n",
       "      <td>2</td>\n",
       "      <td>62</td>\n",
       "      <td>2</td>\n",
       "    </tr>\n",
       "  </tbody>\n",
       "</table>\n",
       "<p>151753 rows × 18 columns</p>\n",
       "</div>"
      ],
      "text/plain": [
       "       collision_index  collision_year  legacy_collision_severity  \\\n",
       "0        2018010080971            2018                          3   \n",
       "1        2018010080971            2018                          3   \n",
       "2        2018010080973            2018                          3   \n",
       "3        2018010080974            2018                          3   \n",
       "4        2018010080981            2018                          2   \n",
       "...                ...             ...                        ...   \n",
       "746240   2023481369636            2023                          3   \n",
       "746241   2023481369643            2023                          3   \n",
       "746242   2023481369648            2023                          3   \n",
       "746243   2023481369657            2023                          3   \n",
       "746244   2023481369671            2023                          2   \n",
       "\n",
       "        number_of_casualties  number_of_vehicles  road_surface_conditions  \\\n",
       "0                          2                   2                        1   \n",
       "1                          2                   2                        1   \n",
       "2                          1                   1                        1   \n",
       "3                          1                   2                        1   \n",
       "4                          1                   2                        2   \n",
       "...                      ...                 ...                      ...   \n",
       "746240                     1                   2                        2   \n",
       "746241                     1                   2                        1   \n",
       "746242                     1                   2                        1   \n",
       "746243                     1                   2                        1   \n",
       "746244                     1                   1                        1   \n",
       "\n",
       "              date   time  day_of_week  light_conditions  weather_conditions  \\\n",
       "0       01/01/2018  01:30            2                 4                   1   \n",
       "1       01/01/2018  01:30            2                 4                   1   \n",
       "2       01/01/2018  00:50            2                 4                   1   \n",
       "3       01/01/2018  00:45            2                 4                   1   \n",
       "4       01/01/2018  03:00            2                 4                   2   \n",
       "...            ...    ...          ...               ...                 ...   \n",
       "746240  26/06/2023  12:56            2                 1                   2   \n",
       "746241  25/06/2023  18:50            1                 1                   1   \n",
       "746242  28/06/2023  07:10            4                 1                   1   \n",
       "746243  29/06/2023  08:50            5                 1                   1   \n",
       "746244  23/06/2023  08:15            6                 1                   1   \n",
       "\n",
       "       local_authority_ons_district  casualty_reference  age_band_of_casualty  \\\n",
       "0                         E09000007                   1                     8   \n",
       "1                         E09000007                   2                     8   \n",
       "2                         E09000025                   1                     6   \n",
       "3                         E09000019                   1                     7   \n",
       "4                         E09000025                   1                     6   \n",
       "...                             ...                 ...                   ...   \n",
       "746240                    E09000001                   1                     6   \n",
       "746241                    E09000001                   1                     6   \n",
       "746242                    E09000001                   1                     5   \n",
       "746243                    E09000001                   1                     7   \n",
       "746244                    E09000001                   1                     9   \n",
       "\n",
       "        casualty_class  sex_of_casualty  age_of_casualty  casualty_severity  \n",
       "0                    2                2               50                  3  \n",
       "1                    1                1               48                  3  \n",
       "2                    3                1               29                  3  \n",
       "3                    1                1               40                  3  \n",
       "4                    1                1               27                  2  \n",
       "...                ...              ...              ...                ...  \n",
       "746240               1                1               35                  3  \n",
       "746241               1                1               31                  3  \n",
       "746242               1                1               24                  3  \n",
       "746243               1                2               39                  3  \n",
       "746244               3                2               62                  2  \n",
       "\n",
       "[151753 rows x 18 columns]"
      ]
     },
     "execution_count": 53,
     "metadata": {},
     "output_type": "execute_result"
    }
   ],
   "source": [
    "df"
   ]
  },
  {
   "cell_type": "markdown",
   "metadata": {},
   "source": [
    "## Check for Duplicates\n"
   ]
  },
  {
   "cell_type": "code",
   "execution_count": 54,
   "metadata": {},
   "outputs": [
    {
     "name": "stdout",
     "output_type": "stream",
     "text": [
      "Number of duplicate entries: 0\n",
      "Number of duplicates based on key columns ['collision_index']: 21962\n"
     ]
    }
   ],
   "source": [
    "# Check for complete duplicates across all columns\n",
    "duplicates = df[df.duplicated()]\n",
    "print(f\"Number of duplicate entries: {len(duplicates)}\")\n",
    "\n",
    "# Optionally, display the duplicates\n",
    "if not duplicates.empty:\n",
    "    print(\"Duplicate entries found:\\n\", duplicates)\n",
    "\n",
    "# To check duplicates based on specific key columns (e.g., a unique ID or a combination of columns)\n",
    "key_columns = ['collision_index']  # Adjust column names as necessary\n",
    "duplicates_key = df[df.duplicated(subset=key_columns)]\n",
    "print(f\"Number of duplicates based on key columns {key_columns}: {len(duplicates_key)}\")\n"
   ]
  },
  {
   "cell_type": "code",
   "execution_count": null,
   "metadata": {},
   "outputs": [],
   "source": []
  }
 ],
 "metadata": {
  "kernelspec": {
   "display_name": "Python 3 (ipykernel)",
   "language": "python",
   "name": "python3"
  },
  "language_info": {
   "codemirror_mode": {
    "name": "ipython",
    "version": 3
   },
   "file_extension": ".py",
   "mimetype": "text/x-python",
   "name": "python",
   "nbconvert_exporter": "python",
   "pygments_lexer": "ipython3",
   "version": "3.9.12"
  }
 },
 "nbformat": 4,
 "nbformat_minor": 2
}
